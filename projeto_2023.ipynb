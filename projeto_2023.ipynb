{
 "cells": [
  {
   "cell_type": "code",
   "execution_count": 1,
   "id": "26027aa4",
   "metadata": {},
   "outputs": [
    {
     "data": {
      "text/plain": [
       "1881"
      ]
     },
     "execution_count": 1,
     "metadata": {},
     "output_type": "execute_result"
    }
   ],
   "source": [
    "import pandas as pd\n",
    "import numpy as np\n",
    "\n",
    "df = pd.read_csv('estagio_princ_emp.xlsx - Sheet1.csv')\n",
    "\n",
    "df['Data Início'] = pd.to_datetime(df['Data Início'])\n",
    "df['Data Término'] = pd.to_datetime(df['Data Término'])\n",
    "\n",
    "df.head()\n",
    "\n",
    "#Identificando as principais empresas com estagiários da EEL\n",
    "total_estagiarios = len(df)\n",
    "(df['Empresa'].value_counts()/total_estagiarios*100).head(17).sum()\n",
    "df['Empresa'].value_counts().head(17).sum()\n",
    "#Assim é possível identificar as empresas que concentram 50,2% dos estagiários da EEL"
   ]
  },
  {
   "cell_type": "code",
   "execution_count": 2,
   "id": "e211786e",
   "metadata": {},
   "outputs": [
    {
     "data": {
      "text/html": [
       "<div>\n",
       "<style scoped>\n",
       "    .dataframe tbody tr th:only-of-type {\n",
       "        vertical-align: middle;\n",
       "    }\n",
       "\n",
       "    .dataframe tbody tr th {\n",
       "        vertical-align: top;\n",
       "    }\n",
       "\n",
       "    .dataframe thead th {\n",
       "        text-align: right;\n",
       "    }\n",
       "</style>\n",
       "<table border=\"1\" class=\"dataframe\">\n",
       "  <thead>\n",
       "    <tr style=\"text-align: right;\">\n",
       "      <th></th>\n",
       "      <th>Unnamed: 0</th>\n",
       "      <th>Curso</th>\n",
       "      <th>Empresa</th>\n",
       "      <th>Data Início</th>\n",
       "      <th>Data Término</th>\n",
       "      <th>Latitude</th>\n",
       "      <th>Longitude</th>\n",
       "      <th>Cidade</th>\n",
       "      <th>Localização</th>\n",
       "    </tr>\n",
       "  </thead>\n",
       "  <tbody>\n",
       "    <tr>\n",
       "      <th>0</th>\n",
       "      <td>2</td>\n",
       "      <td>Engenharia Química</td>\n",
       "      <td>3M DO BRASIL LTDA</td>\n",
       "      <td>2018-01-15</td>\n",
       "      <td>2018-12-31</td>\n",
       "      <td>-22.769293</td>\n",
       "      <td>-47.167211</td>\n",
       "      <td>São José dos Campos</td>\n",
       "      <td>2</td>\n",
       "    </tr>\n",
       "    <tr>\n",
       "      <th>1</th>\n",
       "      <td>3</td>\n",
       "      <td>Engenharia Química</td>\n",
       "      <td>3M DO BRASIL LTDA</td>\n",
       "      <td>2018-02-15</td>\n",
       "      <td>2019-02-14</td>\n",
       "      <td>-22.769293</td>\n",
       "      <td>-47.167211</td>\n",
       "      <td>São José dos Campos</td>\n",
       "      <td>2</td>\n",
       "    </tr>\n",
       "    <tr>\n",
       "      <th>2</th>\n",
       "      <td>4</td>\n",
       "      <td>Engenharia Química</td>\n",
       "      <td>3M DO BRASIL LTDA</td>\n",
       "      <td>2017-07-24</td>\n",
       "      <td>2018-07-23</td>\n",
       "      <td>-22.769293</td>\n",
       "      <td>-47.167211</td>\n",
       "      <td>São José dos Campos</td>\n",
       "      <td>2</td>\n",
       "    </tr>\n",
       "    <tr>\n",
       "      <th>3</th>\n",
       "      <td>5</td>\n",
       "      <td>Engenharia Química</td>\n",
       "      <td>3M DO BRASIL LTDA</td>\n",
       "      <td>2018-07-23</td>\n",
       "      <td>2018-12-31</td>\n",
       "      <td>-22.769293</td>\n",
       "      <td>-47.167211</td>\n",
       "      <td>São José dos Campos</td>\n",
       "      <td>2</td>\n",
       "    </tr>\n",
       "    <tr>\n",
       "      <th>4</th>\n",
       "      <td>6</td>\n",
       "      <td>Engenharia Química</td>\n",
       "      <td>3M DO BRASIL LTDA</td>\n",
       "      <td>2021-02-08</td>\n",
       "      <td>2022-07-31</td>\n",
       "      <td>-22.769293</td>\n",
       "      <td>-47.167211</td>\n",
       "      <td>São José dos Campos</td>\n",
       "      <td>2</td>\n",
       "    </tr>\n",
       "  </tbody>\n",
       "</table>\n",
       "</div>"
      ],
      "text/plain": [
       "   Unnamed: 0              Curso             Empresa Data Início Data Término  \\\n",
       "0           2  Engenharia Química  3M DO BRASIL LTDA  2018-01-15   2018-12-31   \n",
       "1           3  Engenharia Química  3M DO BRASIL LTDA  2018-02-15   2019-02-14   \n",
       "2           4  Engenharia Química  3M DO BRASIL LTDA  2017-07-24   2018-07-23   \n",
       "3           5  Engenharia Química  3M DO BRASIL LTDA  2018-07-23   2018-12-31   \n",
       "4           6  Engenharia Química  3M DO BRASIL LTDA  2021-02-08   2022-07-31   \n",
       "\n",
       "    Latitude  Longitude               Cidade  Localização  \n",
       "0 -22.769293 -47.167211  São José dos Campos            2  \n",
       "1 -22.769293 -47.167211  São José dos Campos            2  \n",
       "2 -22.769293 -47.167211  São José dos Campos            2  \n",
       "3 -22.769293 -47.167211  São José dos Campos            2  \n",
       "4 -22.769293 -47.167211  São José dos Campos            2  "
      ]
     },
     "execution_count": 2,
     "metadata": {},
     "output_type": "execute_result"
    }
   ],
   "source": [
    "#Identificando a frequência de contratação dessas empresas ao longo dos 6 anos, através do gráfico de barras empilhadas\n",
    "# -- Criando uma lista com as principais empresas contratantes\n",
    "principais_empresas = df['Empresa'].value_counts().head(17).index.tolist()\n",
    "# -- Criando um dataframe com as princpais empresas contratantes\n",
    "df_princ_emp = df[df['Empresa'].isin(principais_empresas)]\n",
    "df_princ_emp.head()"
   ]
  },
  {
   "cell_type": "code",
   "execution_count": 3,
   "id": "9baf1fc3",
   "metadata": {},
   "outputs": [
    {
     "name": "stdout",
     "output_type": "stream",
     "text": [
      "['BASF S/A', 'ESCOLA DE ENGENHARIA DE LORENA', 'CONFAB INDUSTRIAL S/A', 'JOHNSON & JOHNSON INDUSTRIAL LTDA.', 'CRUZEIRO PAPEIS INDUSTRIAIS - CPI', 'ITAÚ UNIBANCO S/A', 'A.C. NIELSEN DO BRASIL LTDA', 'PROCTER & GAMBLE IND. E COM. LTDA', 'AMSTED MAXION FUNDIÇÃO E EQUIPAMENTOS FERROVIÁRIOS S.A', 'PLASTIC OMNIUM DO BRASIL LTDA', '3M DO BRASIL LTDA', 'SUZANO PAPEL E CELULOSE S/A', 'EMBRAER S/A', 'GERDAU S/A', 'INTERVET DO BRASIL VETERINÁRIA LTDA', 'MONSANTO DO BRASIL LTDA', 'BRASKEM S/A']\n"
     ]
    }
   ],
   "source": [
    "# -- Encontrando a localização de cada principal empresa presente no novo dataframe\n",
    "print(principais_empresas)"
   ]
  },
  {
   "cell_type": "code",
   "execution_count": 4,
   "id": "99a3a79f",
   "metadata": {},
   "outputs": [
    {
     "data": {
      "text/plain": [
       "1    1072\n",
       "3     481\n",
       "2     328\n",
       "Name: Localização, dtype: int64"
      ]
     },
     "execution_count": 4,
     "metadata": {},
     "output_type": "execute_result"
    }
   ],
   "source": [
    "df['Localização'].value_counts()"
   ]
  },
  {
   "cell_type": "code",
   "execution_count": 6,
   "id": "0cc03cd4",
   "metadata": {},
   "outputs": [
    {
     "data": {
      "text/plain": [
       "São Paulo              419\n",
       "Guaratinguetá          414\n",
       "Cruzeiro               260\n",
       "São José dos Campos    255\n",
       "Lorena                 206\n",
       "Pindamonhangaba        192\n",
       "Taubaté                 73\n",
       "Suzano                  62\n",
       "Name: Cidade, dtype: int64"
      ]
     },
     "execution_count": 6,
     "metadata": {},
     "output_type": "execute_result"
    }
   ],
   "source": [
    "df['Cidade'].value_counts()"
   ]
  },
  {
   "cell_type": "code",
   "execution_count": 10,
   "id": "56f5d7a3",
   "metadata": {},
   "outputs": [
    {
     "data": {
      "text/plain": [
       "2018    276\n",
       "2017    274\n",
       "2022    253\n",
       "2019    251\n",
       "2021    227\n",
       "2020    199\n",
       "2016    193\n",
       "2015     93\n",
       "2014     34\n",
       "2023     22\n",
       "2024     14\n",
       "2025     10\n",
       "2026      9\n",
       "2013      9\n",
       "2027      5\n",
       "2028      3\n",
       "2012      3\n",
       "2029      2\n",
       "2030      1\n",
       "2011      1\n",
       "2010      1\n",
       "2008      1\n",
       "Name: Ano de Início, dtype: int64"
      ]
     },
     "execution_count": 10,
     "metadata": {},
     "output_type": "execute_result"
    }
   ],
   "source": [
    "df['Ano de Início'] = df['Data Início'].dt.year\n",
    "df['Ano de Início'].value_counts()"
   ]
  }
 ],
 "metadata": {
  "kernelspec": {
   "display_name": "Python 3 (ipykernel)",
   "language": "python",
   "name": "python3"
  },
  "language_info": {
   "codemirror_mode": {
    "name": "ipython",
    "version": 3
   },
   "file_extension": ".py",
   "mimetype": "text/x-python",
   "name": "python",
   "nbconvert_exporter": "python",
   "pygments_lexer": "ipython3",
   "version": "3.9.13"
  }
 },
 "nbformat": 4,
 "nbformat_minor": 5
}
