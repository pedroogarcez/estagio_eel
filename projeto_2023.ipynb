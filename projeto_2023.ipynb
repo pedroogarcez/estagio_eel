{
 "cells": [
  {
   "cell_type": "code",
   "execution_count": 101,
   "id": "26027aa4",
   "metadata": {},
   "outputs": [
    {
     "name": "stderr",
     "output_type": "stream",
     "text": [
      "C:\\Users\\55129\\anaconda3\\lib\\site-packages\\pandas\\core\\frame.py:4308: SettingWithCopyWarning: \n",
      "A value is trying to be set on a copy of a slice from a DataFrame\n",
      "\n",
      "See the caveats in the documentation: https://pandas.pydata.org/pandas-docs/stable/user_guide/indexing.html#returning-a-view-versus-a-copy\n",
      "  return super().drop(\n"
     ]
    },
    {
     "data": {
      "text/plain": [
       "2018    274\n",
       "2019    270\n",
       "2022    223\n",
       "2020    210\n",
       "2021    204\n",
       "2023    177\n",
       "2017    107\n",
       "2016      6\n",
       "Name: Ano Término, dtype: int64"
      ]
     },
     "execution_count": 101,
     "metadata": {},
     "output_type": "execute_result"
    }
   ],
   "source": [
    "import pandas as pd\n",
    "import numpy as np\n",
    "\n",
    "df = pd.read_csv('estagio_princ_emp.xlsx - Sheet1.csv')\n",
    "\n",
    "df['Data Início'] = pd.to_datetime(df['Data Início'])\n",
    "df['Data Término'] = pd.to_datetime(df['Data Término'])\n",
    "\n",
    "df['Ano Início'] = df['Data Início'].dt.year\n",
    "df['Ano Término'] = df['Data Término'].dt.year\n",
    "\n",
    "#Nota-se que existem mais de 6 anos cadastrados no nosso dataframe como data de início do estágio (2016-2022). Vamos tratar\n",
    "# e salvar no df2\n",
    "#len(df['Ano Início'].value_counts()) = 22 anos diferentes\n",
    "#len(df) = 1881 estagiários\n",
    "\n",
    "df2 = df.loc[(df['Ano Início'] > 2016) & (df['Ano Início'] < 2023)]\n",
    "df2['Ano Início'].value_counts()\n",
    "df2['Ano Término'].value_counts()\n",
    "\n",
    "df2.loc[(df2['Ano Término'] == 2015)].index\n",
    "df2.drop([33,34,35,91,92,96,101,163,164],inplace=True);\n",
    "df2['Ano Término'].value_counts()"
   ]
  },
  {
   "cell_type": "code",
   "execution_count": 102,
   "id": "99a3a79f",
   "metadata": {},
   "outputs": [
    {
     "data": {
      "text/plain": [
       "1    831\n",
       "3    380\n",
       "2    260\n",
       "Name: Localização, dtype: int64"
      ]
     },
     "execution_count": 102,
     "metadata": {},
     "output_type": "execute_result"
    }
   ],
   "source": [
    "df2['Localização'].value_counts()"
   ]
  },
  {
   "cell_type": "code",
   "execution_count": 108,
   "id": "0cc03cd4",
   "metadata": {},
   "outputs": [
    {
     "data": {
      "text/plain": [
       "Guaratinguetá          327\n",
       "São Paulo              326\n",
       "Cruzeiro               211\n",
       "São José dos Campos    203\n",
       "Pindamonhangaba        166\n",
       "Lorena                 127\n",
       "Taubaté                 57\n",
       "Suzano                  54\n",
       "Name: Cidade, dtype: int64"
      ]
     },
     "execution_count": 108,
     "metadata": {},
     "output_type": "execute_result"
    }
   ],
   "source": [
    "df2['Cidade'].value_counts()"
   ]
  },
  {
   "cell_type": "code",
   "execution_count": 114,
   "id": "b95c798c",
   "metadata": {},
   "outputs": [
    {
     "name": "stderr",
     "output_type": "stream",
     "text": [
      "<ipython-input-114-89f1edbacdda>:1: SettingWithCopyWarning: \n",
      "A value is trying to be set on a copy of a slice from a DataFrame.\n",
      "Try using .loc[row_indexer,col_indexer] = value instead\n",
      "\n",
      "See the caveats in the documentation: https://pandas.pydata.org/pandas-docs/stable/user_guide/indexing.html#returning-a-view-versus-a-copy\n",
      "  df2['Período'] = df2['Ano Término'] - df2['Ano Início']\n"
     ]
    },
    {
     "data": {
      "text/plain": [
       " 1    877\n",
       " 0    500\n",
       " 2     48\n",
       "-1     10\n",
       " 3      8\n",
       "-2      7\n",
       "-4      7\n",
       "-3      6\n",
       " 4      3\n",
       "-5      3\n",
       "-6      2\n",
       "Name: Período, dtype: int64"
      ]
     },
     "execution_count": 114,
     "metadata": {},
     "output_type": "execute_result"
    }
   ],
   "source": [
    "df2['Período'] = df2['Ano Término'] - df2['Ano Início']\n",
    "df2['Período'].value_counts()"
   ]
  }
 ],
 "metadata": {
  "kernelspec": {
   "display_name": "Python 3",
   "language": "python",
   "name": "python3"
  },
  "language_info": {
   "codemirror_mode": {
    "name": "ipython",
    "version": 3
   },
   "file_extension": ".py",
   "mimetype": "text/x-python",
   "name": "python",
   "nbconvert_exporter": "python",
   "pygments_lexer": "ipython3",
   "version": "3.8.8"
  }
 },
 "nbformat": 4,
 "nbformat_minor": 5
}
