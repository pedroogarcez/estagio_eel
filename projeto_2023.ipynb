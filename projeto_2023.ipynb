{
 "cells": [
  {
   "cell_type": "code",
   "execution_count": 72,
   "id": "26027aa4",
   "metadata": {},
   "outputs": [
    {
     "data": {
      "text/plain": [
       "50.20016012810248"
      ]
     },
     "execution_count": 72,
     "metadata": {},
     "output_type": "execute_result"
    }
   ],
   "source": [
    "import pandas as pd\n",
    "import numpy as np\n",
    "\n",
    "df = pd.read_csv('estagio_compartilhado.csv')\n",
    "\n",
    "#df['Data Início'] = pd.to_datetime(df['Data Início'])\n",
    "#df['Data Término'] = pd.to_datetime(df['Data Término'])\n",
    "\n",
    "df.head()\n",
    "\n",
    "#Identificando as principais empresas com estagiários da EEL\n",
    "total_estagiarios = len(df)\n",
    "(df['Empresa'].value_counts()/total_estagiarios*100).head(17).sum()\n",
    "\n",
    "#Assim é possível identificar as empresas que concentram 50,2% dos estagiários da EEL"
   ]
  },
  {
   "cell_type": "code",
   "execution_count": 81,
   "id": "e211786e",
   "metadata": {},
   "outputs": [],
   "source": [
    "#Identificando a frequência de contratação dessas empresas ao longo dos 6 anos, através do gráfico de barras empilhadas\n"
   ]
  },
  {
   "cell_type": "code",
   "execution_count": 82,
   "id": "ba05fe0b",
   "metadata": {},
   "outputs": [
    {
     "name": "stdout",
     "output_type": "stream",
     "text": [
      "Informe o nome da EmpresaBASF\n"
     ]
    },
    {
     "ename": "NameError",
     "evalue": "name 'geolocalizador' is not defined",
     "output_type": "error",
     "traceback": [
      "\u001b[1;31m---------------------------------------------------------------------------\u001b[0m",
      "\u001b[1;31mNameError\u001b[0m                                 Traceback (most recent call last)",
      "\u001b[1;32m~\\AppData\\Local\\Temp\\ipykernel_5020\\1057528163.py\u001b[0m in \u001b[0;36m<module>\u001b[1;34m\u001b[0m\n\u001b[0;32m      4\u001b[0m \u001b[1;32mfor\u001b[0m \u001b[0mi\u001b[0m \u001b[1;32min\u001b[0m \u001b[0mrange\u001b[0m\u001b[1;33m(\u001b[0m\u001b[0mlen\u001b[0m\u001b[1;33m(\u001b[0m\u001b[0mnome_empresa\u001b[0m\u001b[1;33m)\u001b[0m\u001b[1;33m)\u001b[0m\u001b[1;33m:\u001b[0m\u001b[1;33m\u001b[0m\u001b[1;33m\u001b[0m\u001b[0m\n\u001b[0;32m      5\u001b[0m     \u001b[0mempresa\u001b[0m \u001b[1;33m=\u001b[0m \u001b[0mstr\u001b[0m\u001b[1;33m(\u001b[0m\u001b[0minput\u001b[0m\u001b[1;33m(\u001b[0m\u001b[1;34m'Informe o nome da Empresa'\u001b[0m\u001b[1;33m)\u001b[0m\u001b[1;33m)\u001b[0m\u001b[1;33m\u001b[0m\u001b[1;33m\u001b[0m\u001b[0m\n\u001b[1;32m----> 6\u001b[1;33m     \u001b[0mlocalizacao\u001b[0m \u001b[1;33m=\u001b[0m \u001b[0mgeolocalizador\u001b[0m\u001b[1;33m.\u001b[0m\u001b[0mgeocode\u001b[0m\u001b[1;33m(\u001b[0m\u001b[0mempresa\u001b[0m\u001b[1;33m)\u001b[0m\u001b[1;33m\u001b[0m\u001b[1;33m\u001b[0m\u001b[0m\n\u001b[0m\u001b[0;32m      7\u001b[0m     \u001b[0mlat_lon\u001b[0m\u001b[1;33m.\u001b[0m\u001b[0mappend\u001b[0m\u001b[1;33m(\u001b[0m\u001b[0mlocalizacao\u001b[0m\u001b[1;33m[\u001b[0m\u001b[1;33m-\u001b[0m\u001b[1;36m1\u001b[0m\u001b[1;33m]\u001b[0m\u001b[1;33m)\u001b[0m\u001b[1;33m\u001b[0m\u001b[1;33m\u001b[0m\u001b[0m\n\u001b[0;32m      8\u001b[0m     \u001b[0mprint\u001b[0m\u001b[1;33m(\u001b[0m\u001b[0mlat_lon\u001b[0m\u001b[1;33m)\u001b[0m\u001b[1;33m\u001b[0m\u001b[1;33m\u001b[0m\u001b[0m\n",
      "\u001b[1;31mNameError\u001b[0m: name 'geolocalizador' is not defined"
     ]
    }
   ],
   "source": [
    "from geopy.geocoders import Nominatim\n",
    "nome_empresa = df['Empresa'].value_counts().index.tolist()\n",
    "lat_lon = []\n",
    "for i in range(len(nome_empresa)):\n",
    "    empresa = str(input('Informe o nome da Empresa'))\n",
    "    localizacao = geolocalizador.geocode(empresa) \n",
    "    lat_lon.append(localizacao[-1])\n",
    "    print(lat_lon)"
   ]
  }
 ],
 "metadata": {
  "kernelspec": {
   "display_name": "Python 3 (ipykernel)",
   "language": "python",
   "name": "python3"
  },
  "language_info": {
   "codemirror_mode": {
    "name": "ipython",
    "version": 3
   },
   "file_extension": ".py",
   "mimetype": "text/x-python",
   "name": "python",
   "nbconvert_exporter": "python",
   "pygments_lexer": "ipython3",
   "version": "3.9.13"
  }
 },
 "nbformat": 4,
 "nbformat_minor": 5
}
