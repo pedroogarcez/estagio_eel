{
 "cells": [
  {
   "cell_type": "code",
   "execution_count": 149,
   "id": "d6335d2f",
   "metadata": {},
   "outputs": [
    {
     "data": {
      "text/html": [
       "<div>\n",
       "<style scoped>\n",
       "    .dataframe tbody tr th:only-of-type {\n",
       "        vertical-align: middle;\n",
       "    }\n",
       "\n",
       "    .dataframe tbody tr th {\n",
       "        vertical-align: top;\n",
       "    }\n",
       "\n",
       "    .dataframe thead th {\n",
       "        text-align: right;\n",
       "    }\n",
       "</style>\n",
       "<table border=\"1\" class=\"dataframe\">\n",
       "  <thead>\n",
       "    <tr style=\"text-align: right;\">\n",
       "      <th></th>\n",
       "      <th>Curso</th>\n",
       "      <th>Empresa</th>\n",
       "      <th>Data Início</th>\n",
       "      <th>Data Término</th>\n",
       "    </tr>\n",
       "  </thead>\n",
       "  <tbody>\n",
       "    <tr>\n",
       "      <th>0</th>\n",
       "      <td>Engenharia Química</td>\n",
       "      <td>3GEN CONSULTORIA EMPRESARIAL LTDA</td>\n",
       "      <td>2018-03-23 00:00:00</td>\n",
       "      <td>2018-12-19 00:00:00</td>\n",
       "    </tr>\n",
       "    <tr>\n",
       "      <th>1</th>\n",
       "      <td>Engenharia de Materiais</td>\n",
       "      <td>3GEN CONSULTORIA EMPRESARIAL LTDA</td>\n",
       "      <td>2017-07-20 00:00:00</td>\n",
       "      <td>2017-12-31 00:00:00</td>\n",
       "    </tr>\n",
       "    <tr>\n",
       "      <th>2</th>\n",
       "      <td>Engenharia Química</td>\n",
       "      <td>3M DO BRASIL LTDA</td>\n",
       "      <td>2018-01-15 00:00:00</td>\n",
       "      <td>2018-12-31 00:00:00</td>\n",
       "    </tr>\n",
       "    <tr>\n",
       "      <th>3</th>\n",
       "      <td>Engenharia Química</td>\n",
       "      <td>3M DO BRASIL LTDA</td>\n",
       "      <td>2018-02-15 00:00:00</td>\n",
       "      <td>2019-02-14 00:00:00</td>\n",
       "    </tr>\n",
       "    <tr>\n",
       "      <th>4</th>\n",
       "      <td>Engenharia Química</td>\n",
       "      <td>3M DO BRASIL LTDA</td>\n",
       "      <td>2017-07-24 00:00:00</td>\n",
       "      <td>2018-07-23 00:00:00</td>\n",
       "    </tr>\n",
       "  </tbody>\n",
       "</table>\n",
       "</div>"
      ],
      "text/plain": [
       "                    Curso                             Empresa  \\\n",
       "0       Engenharia Química  3GEN CONSULTORIA EMPRESARIAL LTDA   \n",
       "1  Engenharia de Materiais  3GEN CONSULTORIA EMPRESARIAL LTDA   \n",
       "2       Engenharia Química                  3M DO BRASIL LTDA   \n",
       "3       Engenharia Química                  3M DO BRASIL LTDA   \n",
       "4       Engenharia Química                  3M DO BRASIL LTDA   \n",
       "\n",
       "           Data Início         Data Término  \n",
       "0  2018-03-23 00:00:00  2018-12-19 00:00:00  \n",
       "1  2017-07-20 00:00:00  2017-12-31 00:00:00  \n",
       "2  2018-01-15 00:00:00  2018-12-31 00:00:00  \n",
       "3  2018-02-15 00:00:00  2019-02-14 00:00:00  \n",
       "4  2017-07-24 00:00:00  2018-07-23 00:00:00  "
      ]
     },
     "execution_count": 149,
     "metadata": {},
     "output_type": "execute_result"
    }
   ],
   "source": [
    "#Importando as bibliotecas responsáveis por:\n",
    "#Análise e manipulação dos dados\n",
    "import pandas as pd\n",
    "#Operações matemáticas\n",
    "import numpy as np\n",
    "#Visualização e plotagem de gráficos\n",
    "import matplotlib.pyplot as plt\n",
    "import seaborn as sns\n",
    "import statistics as st\n",
    "\n",
    "#Criando o dataframe\n",
    "df = pd.read_csv('estagio_compartilhado.csv')\n",
    "#Visualizando o dataframe através da função 'head'\n",
    "df.head()"
   ]
  },
  {
   "cell_type": "code",
   "execution_count": 150,
   "id": "68918210",
   "metadata": {},
   "outputs": [],
   "source": [
    "#Utilizando a função dropna para remover linhas que possuem qual valor vazio em uma de suas colunas.\n",
    "df.dropna(axis=0,how='any')\n",
    "df.rename(columns={'Curso ': 'Curso'}, inplace = True)"
   ]
  },
  {
   "cell_type": "code",
   "execution_count": 151,
   "id": "d5e92a29",
   "metadata": {},
   "outputs": [
    {
     "name": "stdout",
     "output_type": "stream",
     "text": [
      "BASF S/A                                             414\n",
      "ESCOLA DE ENGENHARIA DE LORENA                       206\n",
      "CONFAB INDUSTRIAL S/A                                136\n",
      "JOHNSON & JOHNSON INDUSTRIAL LTDA.                   129\n",
      "CRUZEIRO PAPEIS INDUSTRIAIS - CPI                    129\n",
      "                                                    ... \n",
      "LIMA & PERGHER INDUSTRIA, COMERCIO E REP. LTDA         1\n",
      "LIGA ACELERADORA DE PROJETOS E PARTICIPAÇÕES LTDA      1\n",
      "COMPANHIA BRASILEIRA DE METALURGIA E MINERAÇÃO         1\n",
      "LIAX TECNOLOGIA DA INFORMAÇÃO LTDA EPP                 1\n",
      "ZARAPLAST S.A                                          1\n",
      "Name: Empresa, Length: 600, dtype: int64\n"
     ]
    }
   ],
   "source": [
    "listaempresas = df['Empresa'].value_counts()\n",
    "print(listaempresas)"
   ]
  },
  {
   "cell_type": "code",
   "execution_count": 152,
   "id": "371d7f03",
   "metadata": {},
   "outputs": [],
   "source": [
    "#Identificando os valores presentes na coluna Curso do no DataFrame criado"
   ]
  },
  {
   "cell_type": "code",
   "execution_count": 153,
   "id": "e1f70dc4",
   "metadata": {},
   "outputs": [
    {
     "name": "stdout",
     "output_type": "stream",
     "text": [
      "Em 2022 a EEL possui 562 estagiários.\n",
      "Em 2022 a EEL possui 1925 alunos.\n",
      "29.194805194805195 dos alunos da EEL estão estagiando em 2022.\n"
     ]
    }
   ],
   "source": [
    "'''\n",
    "Após todo processo de filtragem, agora vamos começar a interpretar nossos dados.\n",
    "\n",
    "Primeira proposta:\n",
    "- Identificar qual a porcentagem de alunos da EEL que estão estagiando em 2022. \n",
    "Para isso, será necessário primeiramente transformar nossa coluna data de início para o tipo 'datetime' [3]. Assim será\n",
    "possível determinar a primera data do ano [4] e selecionar somente os alunos que começaram seu estágio em 2022 [5] através\n",
    "da função 'loc' [5]\n",
    "'''\n",
    "\n",
    "#Transformando a data em datetime [3]\n",
    "df['Data Início'] = pd.to_datetime(df['Data Início'])\n",
    "df['Data Término'] = pd.to_datetime(df['Data Término'])\n",
    "\n",
    "#Selecionando a primeira data do ano [4]\n",
    "datainicio = '2022-01-01'\n",
    "datatermino = '2022-12-31'\n",
    "\n",
    "estagiarios = len(df.loc[(df['Data Início'] > datainicio) & (df['Data Início'] < datatermino)])\n",
    "total_alunos = 1925\n",
    "\n",
    "porcentagem_estagiarios = (estagiarios/total_alunos)*100\n",
    "print(f'Em 2022 a EEL possui {estagiarios} estagiários.')\n",
    "print(f'Em 2022 a EEL possui {total_alunos} alunos.')\n",
    "print(f'{porcentagem_estagiarios} dos alunos da EEL estão estagiando em 2022.')"
   ]
  },
  {
   "cell_type": "code",
   "execution_count": 154,
   "id": "91bcc394",
   "metadata": {},
   "outputs": [
    {
     "name": "stderr",
     "output_type": "stream",
     "text": [
      "C:\\ProgramData\\Anaconda3\\lib\\site-packages\\seaborn\\_decorators.py:36: FutureWarning: Pass the following variables as keyword args: x, y. From version 0.12, the only valid positional argument will be `data`, and passing other arguments without an explicit keyword will result in an error or misinterpretation.\n",
      "  warnings.warn(\n"
     ]
    },
    {
     "data": {
      "text/plain": [
       "Text(0.5, 1.0, 'Porcentagem (%) de alunos estágiarios em 2022')"
      ]
     },
     "execution_count": 154,
     "metadata": {},
     "output_type": "execute_result"
    },
    {
     "data": {
      "image/png": "[encoded data removed]",
      "text/plain": [
       "<Figure size 640x480 with 1 Axes>"
      ]
     },
     "metadata": {},
     "output_type": "display_data"
    }
   ],
   "source": [
    "#Plotando o gráfico em relação aos valores acima\n",
    "plt.figure()\n",
    "curso = ['EQ','EM','EA','EB','EP','EF']\n",
    "porcentagem = [31.3,28.7,29.4,21.5,32.4,23.3]\n",
    "ax = sns.barplot(curso,porcentagem,palette = \"coolwarm\")\n",
    "plt.title('Porcentagem (%) de alunos estágiarios em 2022',fontweight='bold')"
   ]
  },
  {
   "cell_type": "code",
   "execution_count": 155,
   "id": "a1ae635a",
   "metadata": {},
   "outputs": [
    {
     "data": {
      "text/html": [
       "<div>\n",
       "<style scoped>\n",
       "    .dataframe tbody tr th:only-of-type {\n",
       "        vertical-align: middle;\n",
       "    }\n",
       "\n",
       "    .dataframe tbody tr th {\n",
       "        vertical-align: top;\n",
       "    }\n",
       "\n",
       "    .dataframe thead th {\n",
       "        text-align: right;\n",
       "    }\n",
       "</style>\n",
       "<table border=\"1\" class=\"dataframe\">\n",
       "  <thead>\n",
       "    <tr style=\"text-align: right;\">\n",
       "      <th></th>\n",
       "      <th>Curso</th>\n",
       "      <th>Empresa</th>\n",
       "      <th>Data Início</th>\n",
       "      <th>Data Término</th>\n",
       "    </tr>\n",
       "  </thead>\n",
       "  <tbody>\n",
       "    <tr>\n",
       "      <th>0</th>\n",
       "      <td>Engenharia Química</td>\n",
       "      <td>3GEN CONSULTORIA EMPRESARIAL LTDA</td>\n",
       "      <td>2018-03-23</td>\n",
       "      <td>2018-12-19</td>\n",
       "    </tr>\n",
       "    <tr>\n",
       "      <th>1</th>\n",
       "      <td>Engenharia de Materiais</td>\n",
       "      <td>3GEN CONSULTORIA EMPRESARIAL LTDA</td>\n",
       "      <td>2017-07-20</td>\n",
       "      <td>2017-12-31</td>\n",
       "    </tr>\n",
       "    <tr>\n",
       "      <th>2</th>\n",
       "      <td>Engenharia Química</td>\n",
       "      <td>3M DO BRASIL LTDA</td>\n",
       "      <td>2018-01-15</td>\n",
       "      <td>2018-12-31</td>\n",
       "    </tr>\n",
       "    <tr>\n",
       "      <th>3</th>\n",
       "      <td>Engenharia Química</td>\n",
       "      <td>3M DO BRASIL LTDA</td>\n",
       "      <td>2018-02-15</td>\n",
       "      <td>2019-02-14</td>\n",
       "    </tr>\n",
       "    <tr>\n",
       "      <th>4</th>\n",
       "      <td>Engenharia Química</td>\n",
       "      <td>3M DO BRASIL LTDA</td>\n",
       "      <td>2017-07-24</td>\n",
       "      <td>2018-07-23</td>\n",
       "    </tr>\n",
       "  </tbody>\n",
       "</table>\n",
       "</div>"
      ],
      "text/plain": [
       "                     Curso                            Empresa Data Início  \\\n",
       "0       Engenharia Química  3GEN CONSULTORIA EMPRESARIAL LTDA  2018-03-23   \n",
       "1  Engenharia de Materiais  3GEN CONSULTORIA EMPRESARIAL LTDA  2017-07-20   \n",
       "2       Engenharia Química                  3M DO BRASIL LTDA  2018-01-15   \n",
       "3       Engenharia Química                  3M DO BRASIL LTDA  2018-02-15   \n",
       "4       Engenharia Química                  3M DO BRASIL LTDA  2017-07-24   \n",
       "\n",
       "  Data Término  \n",
       "0   2018-12-19  \n",
       "1   2017-12-31  \n",
       "2   2018-12-31  \n",
       "3   2019-02-14  \n",
       "4   2018-07-23  "
      ]
     },
     "execution_count": 155,
     "metadata": {},
     "output_type": "execute_result"
    }
   ],
   "source": [
    "df.head()"
   ]
  },
  {
   "cell_type": "code",
   "execution_count": 156,
   "id": "5c3f6c65",
   "metadata": {},
   "outputs": [
    {
     "data": {
      "text/plain": [
       "BASF S/A                                                  414\n",
       "ESCOLA DE ENGENHARIA DE LORENA                            206\n",
       "CONFAB INDUSTRIAL S/A                                     136\n",
       "JOHNSON & JOHNSON INDUSTRIAL LTDA.                        129\n",
       "CRUZEIRO PAPEIS INDUSTRIAIS - CPI                         129\n",
       "ITAÚ UNIBANCO S/A                                         122\n",
       "A.C. NIELSEN DO BRASIL LTDA                               119\n",
       "PROCTER & GAMBLE IND. E COM. LTDA                          89\n",
       "AMSTED MAXION FUNDIÇÃO E EQUIPAMENTOS FERROVIÁRIOS S.A     80\n",
       "PLASTIC OMNIUM DO BRASIL LTDA                              73\n",
       "3M DO BRASIL LTDA                                          66\n",
       "SUZANO PAPEL E CELULOSE S/A                                62\n",
       "EMBRAER S/A                                                60\n",
       "GERDAU S/A                                                 56\n",
       "INTERVET DO BRASIL VETERINÁRIA LTDA                        51\n",
       "MONSANTO DO BRASIL LTDA                                    46\n",
       "BRASKEM S/A                                                43\n",
       "EATON LTDA                                                 41\n",
       "OXITENO S.A INDÚSTRIA E COMÉRCIO                           39\n",
       "AMBEV S.A.                                                 39\n",
       "Name: Empresa, dtype: int64"
      ]
     },
     "execution_count": 156,
     "metadata": {},
     "output_type": "execute_result"
    }
   ],
   "source": [
    "df['Empresa'].value_counts().head(20)"
   ]
  },
  {
   "cell_type": "code",
   "execution_count": 157,
   "id": "e2cd7e30",
   "metadata": {},
   "outputs": [
    {
     "data": {
      "text/html": [
       "<div>\n",
       "<style scoped>\n",
       "    .dataframe tbody tr th:only-of-type {\n",
       "        vertical-align: middle;\n",
       "    }\n",
       "\n",
       "    .dataframe tbody tr th {\n",
       "        vertical-align: top;\n",
       "    }\n",
       "\n",
       "    .dataframe thead th {\n",
       "        text-align: right;\n",
       "    }\n",
       "</style>\n",
       "<table border=\"1\" class=\"dataframe\">\n",
       "  <thead>\n",
       "    <tr style=\"text-align: right;\">\n",
       "      <th></th>\n",
       "      <th>Curso</th>\n",
       "      <th>Empresa</th>\n",
       "      <th>Data Início</th>\n",
       "      <th>Data Término</th>\n",
       "    </tr>\n",
       "  </thead>\n",
       "  <tbody>\n",
       "    <tr>\n",
       "      <th>2</th>\n",
       "      <td>Engenharia Química</td>\n",
       "      <td>3M DO BRASIL LTDA</td>\n",
       "      <td>2018-01-15</td>\n",
       "      <td>2018-12-31</td>\n",
       "    </tr>\n",
       "    <tr>\n",
       "      <th>3</th>\n",
       "      <td>Engenharia Química</td>\n",
       "      <td>3M DO BRASIL LTDA</td>\n",
       "      <td>2018-02-15</td>\n",
       "      <td>2019-02-14</td>\n",
       "    </tr>\n",
       "    <tr>\n",
       "      <th>4</th>\n",
       "      <td>Engenharia Química</td>\n",
       "      <td>3M DO BRASIL LTDA</td>\n",
       "      <td>2017-07-24</td>\n",
       "      <td>2018-07-23</td>\n",
       "    </tr>\n",
       "    <tr>\n",
       "      <th>5</th>\n",
       "      <td>Engenharia Química</td>\n",
       "      <td>3M DO BRASIL LTDA</td>\n",
       "      <td>2018-07-23</td>\n",
       "      <td>2018-12-31</td>\n",
       "    </tr>\n",
       "    <tr>\n",
       "      <th>6</th>\n",
       "      <td>Engenharia Química</td>\n",
       "      <td>3M DO BRASIL LTDA</td>\n",
       "      <td>2021-02-08</td>\n",
       "      <td>2022-07-31</td>\n",
       "    </tr>\n",
       "    <tr>\n",
       "      <th>...</th>\n",
       "      <td>...</td>\n",
       "      <td>...</td>\n",
       "      <td>...</td>\n",
       "      <td>...</td>\n",
       "    </tr>\n",
       "    <tr>\n",
       "      <th>3552</th>\n",
       "      <td>Engenharia Química</td>\n",
       "      <td>SUZANO PAPEL E CELULOSE S/A</td>\n",
       "      <td>2021-02-11</td>\n",
       "      <td>2022-05-09</td>\n",
       "    </tr>\n",
       "    <tr>\n",
       "      <th>3553</th>\n",
       "      <td>Engenharia Química</td>\n",
       "      <td>SUZANO PAPEL E CELULOSE S/A</td>\n",
       "      <td>2021-02-18</td>\n",
       "      <td>2021-12-31</td>\n",
       "    </tr>\n",
       "    <tr>\n",
       "      <th>3554</th>\n",
       "      <td>Engenharia Química</td>\n",
       "      <td>SUZANO PAPEL E CELULOSE S/A</td>\n",
       "      <td>2022-01-01</td>\n",
       "      <td>2022-03-08</td>\n",
       "    </tr>\n",
       "    <tr>\n",
       "      <th>3555</th>\n",
       "      <td>Engenharia Química</td>\n",
       "      <td>SUZANO PAPEL E CELULOSE S/A</td>\n",
       "      <td>2020-03-11</td>\n",
       "      <td>2021-10-22</td>\n",
       "    </tr>\n",
       "    <tr>\n",
       "      <th>3556</th>\n",
       "      <td>Engenharia Ambiental</td>\n",
       "      <td>SUZANO PAPEL E CELULOSE S/A</td>\n",
       "      <td>2020-12-31</td>\n",
       "      <td>2021-12-30</td>\n",
       "    </tr>\n",
       "  </tbody>\n",
       "</table>\n",
       "<p>2000 rows × 4 columns</p>\n",
       "</div>"
      ],
      "text/plain": [
       "                     Curso                      Empresa Data Início  \\\n",
       "2       Engenharia Química            3M DO BRASIL LTDA  2018-01-15   \n",
       "3       Engenharia Química            3M DO BRASIL LTDA  2018-02-15   \n",
       "4       Engenharia Química            3M DO BRASIL LTDA  2017-07-24   \n",
       "5       Engenharia Química            3M DO BRASIL LTDA  2018-07-23   \n",
       "6       Engenharia Química            3M DO BRASIL LTDA  2021-02-08   \n",
       "...                    ...                          ...         ...   \n",
       "3552    Engenharia Química  SUZANO PAPEL E CELULOSE S/A  2021-02-11   \n",
       "3553    Engenharia Química  SUZANO PAPEL E CELULOSE S/A  2021-02-18   \n",
       "3554    Engenharia Química  SUZANO PAPEL E CELULOSE S/A  2022-01-01   \n",
       "3555    Engenharia Química  SUZANO PAPEL E CELULOSE S/A  2020-03-11   \n",
       "3556  Engenharia Ambiental  SUZANO PAPEL E CELULOSE S/A  2020-12-31   \n",
       "\n",
       "     Data Término  \n",
       "2      2018-12-31  \n",
       "3      2019-02-14  \n",
       "4      2018-07-23  \n",
       "5      2018-12-31  \n",
       "6      2022-07-31  \n",
       "...           ...  \n",
       "3552   2022-05-09  \n",
       "3553   2021-12-31  \n",
       "3554   2022-03-08  \n",
       "3555   2021-10-22  \n",
       "3556   2021-12-30  \n",
       "\n",
       "[2000 rows x 4 columns]"
      ]
     },
     "execution_count": 157,
     "metadata": {},
     "output_type": "execute_result"
    }
   ],
   "source": [
    "df2 = df.loc[(df['Empresa'] == 'BASF S/A') | (df['Empresa'] == 'ESCOLA DE ENGENHARIA DE LORENA') |\n",
    "             (df['Empresa'] == 'CONFAB INDUSTRIAL S/A') | (df['Empresa'] == 'CRUZEIRO PAPEIS INDUSTRIAIS - CPI') |\n",
    "            (df['Empresa'] == 'JOHNSON & JOHNSON INDUSTRIAL LTDA.') | (df['Empresa'] == 'ESCOLA DE ENGENHARIA DE LORENA') |\n",
    "            (df['Empresa'] == 'ITAÚ UNIBANCO S/A') | (df['Empresa'] == 'A.C. NIELSEN DO BRASIL LTDA') | \n",
    "            (df['Empresa'] == 'PROCTER & GAMBLE IND. E COM. LTDA') | (df['Empresa'] == 'AMSTED MAXION FUNDIÇÃO E EQUIPAMENTOS FERROVIÁRIOS S.A') |    \n",
    "            (df['Empresa'] == 'PLASTIC OMNIUM DO BRASIL LTDA') | (df['Empresa'] == '3M DO BRASIL LTDA') | \n",
    "            (df['Empresa'] == '3M DO BRASIL LTDA') | (df['Empresa'] == 'SUZANO PAPEL E CELULOSE S/A') | \n",
    "            (df['Empresa'] == 'EMBRAER S/A') |  (df['Empresa'] == 'GERDAU S/A') | (df['Empresa'] == 'INTERVET DO BRASIL VETERINÁRIA LTDA') |\n",
    "            (df['Empresa'] == 'MONSANTO DO BRASIL LTDA') | (df['Empresa'] == 'BRASKEM S/A') | (df['Empresa'] == 'EATON LTDA') | \n",
    "            (df['Empresa'] == 'AMBEV S.A.') | (df['Empresa'] == 'OXITENO S.A INDÚSTRIA E COMÉRCIO')]\n",
    "df2"
   ]
  },
  {
   "cell_type": "code",
   "execution_count": 158,
   "id": "ff96c36e",
   "metadata": {},
   "outputs": [],
   "source": [
    "#Exportando arquivo\n",
    "#nome_arquivo = 'estagio_teste.xlsx'\n",
    "#df2.to_excel(nome_arquivo)\n",
    "#print('DataFrame is written to Excel File successfully.')"
   ]
  },
  {
   "cell_type": "code",
   "execution_count": 159,
   "id": "dd23b4a0",
   "metadata": {},
   "outputs": [
    {
     "data": {
      "text/html": [
       "<div>\n",
       "<style scoped>\n",
       "    .dataframe tbody tr th:only-of-type {\n",
       "        vertical-align: middle;\n",
       "    }\n",
       "\n",
       "    .dataframe tbody tr th {\n",
       "        vertical-align: top;\n",
       "    }\n",
       "\n",
       "    .dataframe thead th {\n",
       "        text-align: right;\n",
       "    }\n",
       "</style>\n",
       "<table border=\"1\" class=\"dataframe\">\n",
       "  <thead>\n",
       "    <tr style=\"text-align: right;\">\n",
       "      <th></th>\n",
       "      <th>index</th>\n",
       "      <th>Curso</th>\n",
       "      <th>Empresa</th>\n",
       "      <th>Data Início</th>\n",
       "      <th>Data Término</th>\n",
       "    </tr>\n",
       "  </thead>\n",
       "  <tbody>\n",
       "    <tr>\n",
       "      <th>0</th>\n",
       "      <td>2</td>\n",
       "      <td>Engenharia Química</td>\n",
       "      <td>3M DO BRASIL LTDA</td>\n",
       "      <td>2018-01-15</td>\n",
       "      <td>2018-12-31</td>\n",
       "    </tr>\n",
       "    <tr>\n",
       "      <th>1</th>\n",
       "      <td>3</td>\n",
       "      <td>Engenharia Química</td>\n",
       "      <td>3M DO BRASIL LTDA</td>\n",
       "      <td>2018-02-15</td>\n",
       "      <td>2019-02-14</td>\n",
       "    </tr>\n",
       "    <tr>\n",
       "      <th>2</th>\n",
       "      <td>4</td>\n",
       "      <td>Engenharia Química</td>\n",
       "      <td>3M DO BRASIL LTDA</td>\n",
       "      <td>2017-07-24</td>\n",
       "      <td>2018-07-23</td>\n",
       "    </tr>\n",
       "    <tr>\n",
       "      <th>3</th>\n",
       "      <td>5</td>\n",
       "      <td>Engenharia Química</td>\n",
       "      <td>3M DO BRASIL LTDA</td>\n",
       "      <td>2018-07-23</td>\n",
       "      <td>2018-12-31</td>\n",
       "    </tr>\n",
       "    <tr>\n",
       "      <th>4</th>\n",
       "      <td>6</td>\n",
       "      <td>Engenharia Química</td>\n",
       "      <td>3M DO BRASIL LTDA</td>\n",
       "      <td>2021-02-08</td>\n",
       "      <td>2022-07-31</td>\n",
       "    </tr>\n",
       "  </tbody>\n",
       "</table>\n",
       "</div>"
      ],
      "text/plain": [
       "   index               Curso            Empresa Data Início Data Término\n",
       "0      2  Engenharia Química  3M DO BRASIL LTDA  2018-01-15   2018-12-31\n",
       "1      3  Engenharia Química  3M DO BRASIL LTDA  2018-02-15   2019-02-14\n",
       "2      4  Engenharia Química  3M DO BRASIL LTDA  2017-07-24   2018-07-23\n",
       "3      5  Engenharia Química  3M DO BRASIL LTDA  2018-07-23   2018-12-31\n",
       "4      6  Engenharia Química  3M DO BRASIL LTDA  2021-02-08   2022-07-31"
      ]
     },
     "execution_count": 159,
     "metadata": {},
     "output_type": "execute_result"
    }
   ],
   "source": [
    "df2 = df2.reset_index()\n",
    "df2.head()"
   ]
  },
  {
   "cell_type": "code",
   "execution_count": 160,
   "id": "4b0dee7e",
   "metadata": {},
   "outputs": [],
   "source": [
    "#Criando um dicionario que identifica as coordenadas de cada empresa\n",
    "latitude = {'BASF S/A': -23.23251286378096, 'ESCOLA DE ENGENHARIA DE LORENA': -22.766931256674336,\n",
    "           'CONFAB INDUSTRIAL S/A': -22.913712660748935, 'CRUZEIRO PAPEIS INDUSTRIAIS - CPI': -22.566157166725635, \n",
    "           'JOHNSON & JOHNSON INDUSTRIAL LTDA.':-23.237668660536038,'ITAÚ UNIBANCO S/A':-23.23007732593157,'A.C. NIELSEN DO BRASIL LTDA':-23.58305367143824, 'PROCTER & GAMBLE IND. E COM. LTDA':\n",
    "           -23.643375171579706, 'AMSTED MAXION FUNDIÇÃO E EQUIPAMENTOS FERROVIÁRIOS S.A':-22.58657436920941, \n",
    "            'PLASTIC OMNIUM DO BRASIL LTDA':-23.00958905537824,'3M DO BRASIL LTDA': -22.769292748864455,'SUZANO PAPEL E CELULOSE S/A':\n",
    "            -22.681910843482665,'EMBRAER S/A':-23.224600217629305, 'GERDAU S/A':-23.254010436033482,\n",
    "            'INTERVET DO BRASIL VETERINÁRIA LTDA':-23.565107104530686, 'MONSANTO DO BRASIL LTDA':-23.6103244236921, 'BRASKEM S/A':\n",
    "            -23.568611866483614, 'EATON LTDA':-23.505386250001827, 'AMBEV S.A.':-23.587384130832877, 'OXITENO S.A INDÚSTRIA E COMÉRCIO':\n",
    "            -23.56068035141272}\n",
    "longitude = {'BASF S/A':-45.980113050462336, 'ESCOLA DE ENGENHARIA DE LORENA': -45.102246147296384,\n",
    "            'CONFAB INDUSTRIAL S/A': -45.35150343318769,'CRUZEIRO PAPEIS INDUSTRIAIS - CPI':-44.934566857389406,\n",
    "            'JOHNSON & JOHNSON INDUSTRIAL LTDA.':-45.923370963094555,'ITAÚ UNIBANCO S/A':-45.919982169201546,\n",
    "            'A.C. NIELSEN DO BRASIL LTDA':-46.8269345866771,'PROCTER & GAMBLE IND. E COM. LTDA': -46.73117278649875,\n",
    "            'AMSTED MAXION FUNDIÇÃO E EQUIPAMENTOS FERROVIÁRIOS S.A ':-44.95755084909031,'PLASTIC OMNIUM DO BRASIL LTDA':\n",
    "            -45.51509136078473,'3M DO BRASIL LTDA':-47.16721068576558,'SUZANO PAPEL E CELULOSE S/A': -48.88743658281136,\n",
    "            'EMBRAER S/A':-45.855136020460336,'GERDAU S/A':-45.92271966534212,'INTERVET DO BRASIL VETERINÁRIA LTDA':\n",
    "            -46.76406156218192,'MONSANTO DO BRASIL LTDA':-46.69688213193395,'BRASKEM S/A':-46.70323434988222,'EATON LTDA':\n",
    "            -46.708666914291186,'AMBEV S.A.':-46.67234236168452,'OXITENO S.A INDÚSTRIA E COMÉRCIO':-46.64352887426492}"
   ]
  },
  {
   "cell_type": "code",
   "execution_count": 161,
   "id": "2c996777",
   "metadata": {},
   "outputs": [
    {
     "data": {
      "text/html": [
       "<div>\n",
       "<style scoped>\n",
       "    .dataframe tbody tr th:only-of-type {\n",
       "        vertical-align: middle;\n",
       "    }\n",
       "\n",
       "    .dataframe tbody tr th {\n",
       "        vertical-align: top;\n",
       "    }\n",
       "\n",
       "    .dataframe thead th {\n",
       "        text-align: right;\n",
       "    }\n",
       "</style>\n",
       "<table border=\"1\" class=\"dataframe\">\n",
       "  <thead>\n",
       "    <tr style=\"text-align: right;\">\n",
       "      <th></th>\n",
       "      <th>index</th>\n",
       "      <th>Curso</th>\n",
       "      <th>Empresa</th>\n",
       "      <th>Data Início</th>\n",
       "      <th>Data Término</th>\n",
       "      <th>Latitude</th>\n",
       "      <th>Longitude</th>\n",
       "    </tr>\n",
       "  </thead>\n",
       "  <tbody>\n",
       "    <tr>\n",
       "      <th>1995</th>\n",
       "      <td>3552</td>\n",
       "      <td>Engenharia Química</td>\n",
       "      <td>SUZANO PAPEL E CELULOSE S/A</td>\n",
       "      <td>2021-02-11</td>\n",
       "      <td>2022-05-09</td>\n",
       "      <td>-22.681911</td>\n",
       "      <td>-48.887437</td>\n",
       "    </tr>\n",
       "    <tr>\n",
       "      <th>1996</th>\n",
       "      <td>3553</td>\n",
       "      <td>Engenharia Química</td>\n",
       "      <td>SUZANO PAPEL E CELULOSE S/A</td>\n",
       "      <td>2021-02-18</td>\n",
       "      <td>2021-12-31</td>\n",
       "      <td>-22.681911</td>\n",
       "      <td>-48.887437</td>\n",
       "    </tr>\n",
       "    <tr>\n",
       "      <th>1997</th>\n",
       "      <td>3554</td>\n",
       "      <td>Engenharia Química</td>\n",
       "      <td>SUZANO PAPEL E CELULOSE S/A</td>\n",
       "      <td>2022-01-01</td>\n",
       "      <td>2022-03-08</td>\n",
       "      <td>-22.681911</td>\n",
       "      <td>-48.887437</td>\n",
       "    </tr>\n",
       "    <tr>\n",
       "      <th>1998</th>\n",
       "      <td>3555</td>\n",
       "      <td>Engenharia Química</td>\n",
       "      <td>SUZANO PAPEL E CELULOSE S/A</td>\n",
       "      <td>2020-03-11</td>\n",
       "      <td>2021-10-22</td>\n",
       "      <td>-22.681911</td>\n",
       "      <td>-48.887437</td>\n",
       "    </tr>\n",
       "    <tr>\n",
       "      <th>1999</th>\n",
       "      <td>3556</td>\n",
       "      <td>Engenharia Ambiental</td>\n",
       "      <td>SUZANO PAPEL E CELULOSE S/A</td>\n",
       "      <td>2020-12-31</td>\n",
       "      <td>2021-12-30</td>\n",
       "      <td>-22.681911</td>\n",
       "      <td>-48.887437</td>\n",
       "    </tr>\n",
       "  </tbody>\n",
       "</table>\n",
       "</div>"
      ],
      "text/plain": [
       "      index                 Curso                      Empresa Data Início  \\\n",
       "1995   3552    Engenharia Química  SUZANO PAPEL E CELULOSE S/A  2021-02-11   \n",
       "1996   3553    Engenharia Química  SUZANO PAPEL E CELULOSE S/A  2021-02-18   \n",
       "1997   3554    Engenharia Química  SUZANO PAPEL E CELULOSE S/A  2022-01-01   \n",
       "1998   3555    Engenharia Química  SUZANO PAPEL E CELULOSE S/A  2020-03-11   \n",
       "1999   3556  Engenharia Ambiental  SUZANO PAPEL E CELULOSE S/A  2020-12-31   \n",
       "\n",
       "     Data Término   Latitude  Longitude  \n",
       "1995   2022-05-09 -22.681911 -48.887437  \n",
       "1996   2021-12-31 -22.681911 -48.887437  \n",
       "1997   2022-03-08 -22.681911 -48.887437  \n",
       "1998   2021-10-22 -22.681911 -48.887437  \n",
       "1999   2021-12-30 -22.681911 -48.887437  "
      ]
     },
     "execution_count": 161,
     "metadata": {},
     "output_type": "execute_result"
    }
   ],
   "source": [
    "df2['Latitude'] = df2['Empresa'].map(latitude)\n",
    "df2['Longitude'] = df2['Empresa'].map(longitude)\n",
    "df2.tail()"
   ]
  },
  {
   "cell_type": "code",
   "execution_count": 162,
   "id": "efedc8fe",
   "metadata": {},
   "outputs": [
    {
     "data": {
      "text/plain": [
       "\"\\n#Exportando arquivo\\nnome_arquivo = 'estagio_lat_lon.xlsx'\\ndf2.to_excel(nome_arquivo)\\nprint('DataFrame is written to Excel File successfully.')\\n\""
      ]
     },
     "execution_count": 162,
     "metadata": {},
     "output_type": "execute_result"
    }
   ],
   "source": [
    "'''\n",
    "#Exportando arquivo\n",
    "nome_arquivo = 'estagio_lat_lon.xlsx'\n",
    "df2.to_excel(nome_arquivo)\n",
    "print('DataFrame is written to Excel File successfully.')\n",
    "'''"
   ]
  },
  {
   "cell_type": "code",
   "execution_count": 163,
   "id": "fcc69357",
   "metadata": {},
   "outputs": [
    {
     "ename": "KeyError",
     "evalue": "'mes'",
     "output_type": "error",
     "traceback": [
      "\u001b[1;31m---------------------------------------------------------------------------\u001b[0m",
      "\u001b[1;31mKeyError\u001b[0m                                  Traceback (most recent call last)",
      "\u001b[1;32mC:\\ProgramData\\Anaconda3\\lib\\site-packages\\pandas\\core\\indexes\\base.py\u001b[0m in \u001b[0;36mget_loc\u001b[1;34m(self, key, method, tolerance)\u001b[0m\n\u001b[0;32m   3628\u001b[0m             \u001b[1;32mtry\u001b[0m\u001b[1;33m:\u001b[0m\u001b[1;33m\u001b[0m\u001b[1;33m\u001b[0m\u001b[0m\n\u001b[1;32m-> 3629\u001b[1;33m                 \u001b[1;32mreturn\u001b[0m \u001b[0mself\u001b[0m\u001b[1;33m.\u001b[0m\u001b[0m_engine\u001b[0m\u001b[1;33m.\u001b[0m\u001b[0mget_loc\u001b[0m\u001b[1;33m(\u001b[0m\u001b[0mcasted_key\u001b[0m\u001b[1;33m)\u001b[0m\u001b[1;33m\u001b[0m\u001b[1;33m\u001b[0m\u001b[0m\n\u001b[0m\u001b[0;32m   3630\u001b[0m             \u001b[1;32mexcept\u001b[0m \u001b[0mKeyError\u001b[0m \u001b[1;32mas\u001b[0m \u001b[0merr\u001b[0m\u001b[1;33m:\u001b[0m\u001b[1;33m\u001b[0m\u001b[1;33m\u001b[0m\u001b[0m\n",
      "\u001b[1;32mC:\\ProgramData\\Anaconda3\\lib\\site-packages\\pandas\\_libs\\index.pyx\u001b[0m in \u001b[0;36mpandas._libs.index.IndexEngine.get_loc\u001b[1;34m()\u001b[0m\n",
      "\u001b[1;32mC:\\ProgramData\\Anaconda3\\lib\\site-packages\\pandas\\_libs\\index.pyx\u001b[0m in \u001b[0;36mpandas._libs.index.IndexEngine.get_loc\u001b[1;34m()\u001b[0m\n",
      "\u001b[1;32mpandas\\_libs\\hashtable_class_helper.pxi\u001b[0m in \u001b[0;36mpandas._libs.hashtable.PyObjectHashTable.get_item\u001b[1;34m()\u001b[0m\n",
      "\u001b[1;32mpandas\\_libs\\hashtable_class_helper.pxi\u001b[0m in \u001b[0;36mpandas._libs.hashtable.PyObjectHashTable.get_item\u001b[1;34m()\u001b[0m\n",
      "\u001b[1;31mKeyError\u001b[0m: 'mes'",
      "\nThe above exception was the direct cause of the following exception:\n",
      "\u001b[1;31mKeyError\u001b[0m                                  Traceback (most recent call last)",
      "\u001b[1;32m~\\AppData\\Local\\Temp\\ipykernel_7560\\3958875414.py\u001b[0m in \u001b[0;36m<module>\u001b[1;34m\u001b[0m\n\u001b[0;32m      1\u001b[0m \u001b[0mdf\u001b[0m\u001b[1;33m[\u001b[0m\u001b[1;34m'Mês'\u001b[0m\u001b[1;33m]\u001b[0m \u001b[1;33m=\u001b[0m \u001b[0mdf\u001b[0m\u001b[1;33m[\u001b[0m\u001b[1;34m'Data Início'\u001b[0m\u001b[1;33m]\u001b[0m\u001b[1;33m.\u001b[0m\u001b[0mdt\u001b[0m\u001b[1;33m.\u001b[0m\u001b[0mmonth\u001b[0m\u001b[1;33m\u001b[0m\u001b[1;33m\u001b[0m\u001b[0m\n\u001b[1;32m----> 2\u001b[1;33m \u001b[0mfrequencia\u001b[0m \u001b[1;33m=\u001b[0m \u001b[0mdf\u001b[0m\u001b[1;33m[\u001b[0m\u001b[1;34m'mes'\u001b[0m\u001b[1;33m]\u001b[0m\u001b[1;33m.\u001b[0m\u001b[0mvalue_counts\u001b[0m\u001b[1;33m(\u001b[0m\u001b[1;33m)\u001b[0m\u001b[1;33m.\u001b[0m\u001b[0mtolist\u001b[0m\u001b[1;33m(\u001b[0m\u001b[1;33m)\u001b[0m\u001b[1;33m\u001b[0m\u001b[1;33m\u001b[0m\u001b[0m\n\u001b[0m\u001b[0;32m      3\u001b[0m \u001b[0mdfmeses\u001b[0m \u001b[1;33m=\u001b[0m \u001b[0mdf\u001b[0m\u001b[1;33m[\u001b[0m\u001b[1;34m'mes'\u001b[0m\u001b[1;33m]\u001b[0m\u001b[1;33m.\u001b[0m\u001b[0mvalue_counts\u001b[0m\u001b[1;33m(\u001b[0m\u001b[1;33m)\u001b[0m\u001b[1;33m\u001b[0m\u001b[1;33m\u001b[0m\u001b[0m\n\u001b[0;32m      4\u001b[0m \u001b[0mprint\u001b[0m\u001b[1;33m(\u001b[0m\u001b[0mfrequencia\u001b[0m\u001b[1;33m)\u001b[0m\u001b[1;33m\u001b[0m\u001b[1;33m\u001b[0m\u001b[0m\n\u001b[0;32m      5\u001b[0m \u001b[0mprint\u001b[0m\u001b[1;33m(\u001b[0m\u001b[0mdfmeses\u001b[0m\u001b[1;33m)\u001b[0m\u001b[1;33m\u001b[0m\u001b[1;33m\u001b[0m\u001b[0m\n",
      "\u001b[1;32mC:\\ProgramData\\Anaconda3\\lib\\site-packages\\pandas\\core\\frame.py\u001b[0m in \u001b[0;36m__getitem__\u001b[1;34m(self, key)\u001b[0m\n\u001b[0;32m   3503\u001b[0m             \u001b[1;32mif\u001b[0m \u001b[0mself\u001b[0m\u001b[1;33m.\u001b[0m\u001b[0mcolumns\u001b[0m\u001b[1;33m.\u001b[0m\u001b[0mnlevels\u001b[0m \u001b[1;33m>\u001b[0m \u001b[1;36m1\u001b[0m\u001b[1;33m:\u001b[0m\u001b[1;33m\u001b[0m\u001b[1;33m\u001b[0m\u001b[0m\n\u001b[0;32m   3504\u001b[0m                 \u001b[1;32mreturn\u001b[0m \u001b[0mself\u001b[0m\u001b[1;33m.\u001b[0m\u001b[0m_getitem_multilevel\u001b[0m\u001b[1;33m(\u001b[0m\u001b[0mkey\u001b[0m\u001b[1;33m)\u001b[0m\u001b[1;33m\u001b[0m\u001b[1;33m\u001b[0m\u001b[0m\n\u001b[1;32m-> 3505\u001b[1;33m             \u001b[0mindexer\u001b[0m \u001b[1;33m=\u001b[0m \u001b[0mself\u001b[0m\u001b[1;33m.\u001b[0m\u001b[0mcolumns\u001b[0m\u001b[1;33m.\u001b[0m\u001b[0mget_loc\u001b[0m\u001b[1;33m(\u001b[0m\u001b[0mkey\u001b[0m\u001b[1;33m)\u001b[0m\u001b[1;33m\u001b[0m\u001b[1;33m\u001b[0m\u001b[0m\n\u001b[0m\u001b[0;32m   3506\u001b[0m             \u001b[1;32mif\u001b[0m \u001b[0mis_integer\u001b[0m\u001b[1;33m(\u001b[0m\u001b[0mindexer\u001b[0m\u001b[1;33m)\u001b[0m\u001b[1;33m:\u001b[0m\u001b[1;33m\u001b[0m\u001b[1;33m\u001b[0m\u001b[0m\n\u001b[0;32m   3507\u001b[0m                 \u001b[0mindexer\u001b[0m \u001b[1;33m=\u001b[0m \u001b[1;33m[\u001b[0m\u001b[0mindexer\u001b[0m\u001b[1;33m]\u001b[0m\u001b[1;33m\u001b[0m\u001b[1;33m\u001b[0m\u001b[0m\n",
      "\u001b[1;32mC:\\ProgramData\\Anaconda3\\lib\\site-packages\\pandas\\core\\indexes\\base.py\u001b[0m in \u001b[0;36mget_loc\u001b[1;34m(self, key, method, tolerance)\u001b[0m\n\u001b[0;32m   3629\u001b[0m                 \u001b[1;32mreturn\u001b[0m \u001b[0mself\u001b[0m\u001b[1;33m.\u001b[0m\u001b[0m_engine\u001b[0m\u001b[1;33m.\u001b[0m\u001b[0mget_loc\u001b[0m\u001b[1;33m(\u001b[0m\u001b[0mcasted_key\u001b[0m\u001b[1;33m)\u001b[0m\u001b[1;33m\u001b[0m\u001b[1;33m\u001b[0m\u001b[0m\n\u001b[0;32m   3630\u001b[0m             \u001b[1;32mexcept\u001b[0m \u001b[0mKeyError\u001b[0m \u001b[1;32mas\u001b[0m \u001b[0merr\u001b[0m\u001b[1;33m:\u001b[0m\u001b[1;33m\u001b[0m\u001b[1;33m\u001b[0m\u001b[0m\n\u001b[1;32m-> 3631\u001b[1;33m                 \u001b[1;32mraise\u001b[0m \u001b[0mKeyError\u001b[0m\u001b[1;33m(\u001b[0m\u001b[0mkey\u001b[0m\u001b[1;33m)\u001b[0m \u001b[1;32mfrom\u001b[0m \u001b[0merr\u001b[0m\u001b[1;33m\u001b[0m\u001b[1;33m\u001b[0m\u001b[0m\n\u001b[0m\u001b[0;32m   3632\u001b[0m             \u001b[1;32mexcept\u001b[0m \u001b[0mTypeError\u001b[0m\u001b[1;33m:\u001b[0m\u001b[1;33m\u001b[0m\u001b[1;33m\u001b[0m\u001b[0m\n\u001b[0;32m   3633\u001b[0m                 \u001b[1;31m# If we have a listlike key, _check_indexing_error will raise\u001b[0m\u001b[1;33m\u001b[0m\u001b[1;33m\u001b[0m\u001b[0m\n",
      "\u001b[1;31mKeyError\u001b[0m: 'mes'"
     ]
    }
   ],
   "source": [
    "df['Mês'] = df['Data Início'].dt.month\n",
    "frequencia = df['mes'].value_counts().tolist()\n",
    "dfmeses = df['mes'].value_counts()\n",
    "print(frequencia)\n",
    "print(dfmeses)\n",
    "meses = ['Janeiro','Agosto','Fevereiro','Julho','Março','Abril','Outubro','Setembro','Junho','Maio','Novembro','Dezembro']"
   ]
  },
  {
   "cell_type": "code",
   "execution_count": 164,
   "id": "6573b70a",
   "metadata": {},
   "outputs": [
    {
     "ename": "NameError",
     "evalue": "name 'frequencia' is not defined",
     "output_type": "error",
     "traceback": [
      "\u001b[1;31m---------------------------------------------------------------------------\u001b[0m",
      "\u001b[1;31mNameError\u001b[0m                                 Traceback (most recent call last)",
      "\u001b[1;32m~\\AppData\\Local\\Temp\\ipykernel_7560\\872952375.py\u001b[0m in \u001b[0;36m<module>\u001b[1;34m\u001b[0m\n\u001b[0;32m      7\u001b[0m \u001b[0mcores\u001b[0m \u001b[1;33m=\u001b[0m \u001b[0mcores\u001b[0m\u001b[1;33m[\u001b[0m\u001b[1;33m:\u001b[0m\u001b[1;33m:\u001b[0m\u001b[1;33m-\u001b[0m\u001b[1;36m1\u001b[0m\u001b[1;33m]\u001b[0m\u001b[1;33m\u001b[0m\u001b[1;33m\u001b[0m\u001b[0m\n\u001b[0;32m      8\u001b[0m \u001b[1;31m#Valores a serem plotado, legendas, raio das porcentagens, incluindo as porcentagens, modificando a fonte e tamanho\u001b[0m\u001b[1;33m\u001b[0m\u001b[1;33m\u001b[0m\u001b[0m\n\u001b[1;32m----> 9\u001b[1;33m \u001b[0mplt\u001b[0m\u001b[1;33m.\u001b[0m\u001b[0mpie\u001b[0m\u001b[1;33m(\u001b[0m\u001b[0mfrequencia\u001b[0m\u001b[1;33m,\u001b[0m\u001b[0mlabels\u001b[0m\u001b[1;33m=\u001b[0m\u001b[0mmeses\u001b[0m\u001b[1;33m,\u001b[0m \u001b[0mpctdistance\u001b[0m\u001b[1;33m=\u001b[0m\u001b[1;36m0.75\u001b[0m\u001b[1;33m,\u001b[0m\u001b[0mautopct\u001b[0m\u001b[1;33m=\u001b[0m\u001b[1;34m'%1.1f%%'\u001b[0m\u001b[1;33m,\u001b[0m\u001b[0mtextprops\u001b[0m \u001b[1;33m=\u001b[0m\u001b[0mtextprops\u001b[0m\u001b[1;33m,\u001b[0m\u001b[0mcolors\u001b[0m\u001b[1;33m=\u001b[0m\u001b[0mcores\u001b[0m\u001b[1;33m)\u001b[0m\u001b[1;33m;\u001b[0m\u001b[1;33m\u001b[0m\u001b[1;33m\u001b[0m\u001b[0m\n\u001b[0m\u001b[0;32m     10\u001b[0m \u001b[1;31m#Plotando o círculo central branco\u001b[0m\u001b[1;33m\u001b[0m\u001b[1;33m\u001b[0m\u001b[0m\n\u001b[0;32m     11\u001b[0m \u001b[1;31m#centre_circle = plt.Circle((0,0),0.50,fc='white',)\u001b[0m\u001b[1;33m\u001b[0m\u001b[1;33m\u001b[0m\u001b[0m\n",
      "\u001b[1;31mNameError\u001b[0m: name 'frequencia' is not defined"
     ]
    },
    {
     "data": {
      "text/plain": [
       "<Figure size 1000x800 with 0 Axes>"
      ]
     },
     "metadata": {},
     "output_type": "display_data"
    }
   ],
   "source": [
    "#Definindo o tamanho da imagem\n",
    "plt.figure(figsize=(10,8))\n",
    "#Definindo o tamanho da fonte das porcentagens e as cores\n",
    "textprops = {\"fontsize\":15,'color':'k'}\n",
    "cores = ['#09174F','#0F2374','#21368B','#4A5994','#5467B6','#6A82E7','#99E4EE','#6AD8E7','#38CFE4','#99B9BD','#77FFB7',\n",
    "        '#0BF579']\n",
    "cores = cores[::-1]\n",
    "#Valores a serem plotado, legendas, raio das porcentagens, incluindo as porcentagens, modificando a fonte e tamanho\n",
    "plt.pie(frequencia,labels=meses, pctdistance=0.75,autopct='%1.1f%%',textprops =textprops,colors=cores);\n",
    "#Plotando o círculo central branco\n",
    "#centre_circle = plt.Circle((0,0),0.50,fc='white',)\n",
    "#fig = plt.gcf()\n",
    "#fig.gca().add_artist(centre_circle)\n",
    "#plt.title('Distribuição dos meses de recrutamento de estagiários EEL-USP',fontsize=15,fontweight='bold')"
   ]
  },
  {
   "cell_type": "code",
   "execution_count": 165,
   "id": "3b2d3df3",
   "metadata": {},
   "outputs": [
    {
     "name": "stderr",
     "output_type": "stream",
     "text": [
      "C:\\ProgramData\\Anaconda3\\lib\\site-packages\\seaborn\\_decorators.py:36: FutureWarning: Pass the following variables as keyword args: x, y. From version 0.12, the only valid positional argument will be `data`, and passing other arguments without an explicit keyword will result in an error or misinterpretation.\n",
      "  warnings.warn(\n",
      "No artists with labels found to put in legend.  Note that artists whose label start with an underscore are ignored when legend() is called with no argument.\n"
     ]
    },
    {
     "data": {
      "image/png": "[encoded data removed]",
      "text/plain": [
       "<Figure size 800x800 with 1 Axes>"
      ]
     },
     "metadata": {},
     "output_type": "display_data"
    }
   ],
   "source": [
    "df.head()\n",
    "freqempresas = df['Empresa'].value_counts().head(20).tolist()\n",
    "df['Empresa'].value_counts().head(20)\n",
    "empresas = ['BASF','EEL-USP','CONFAB','CRUZEIRO PAPÉIS','JOHNSON & JOHNSON','ITAÚ','NIELSEN','PROCTER & GAMBLE',\n",
    "             'AMSTED MAXION','PLASTIC OMNIUM','3M DO BRASIL','SUZANO','EMBRAER','GERDAU','INTERVET','MONSANTO',\n",
    "             'BRASKEN','EATON','OXITENO','AMBEV']\n",
    "\n",
    "plt.figure(figsize=(8,8))\n",
    "ax = sns.barplot(freqempresas,empresas,palette = \"mako\");\n",
    "#plt.xticks(rotation=90);\n",
    "plt.title('Principais empresas contratantes de estágiarios alunos da EEL',fontweight=\"bold\",fontsize=15)\n",
    "plt.legend(loc='lower right', title='Total de empresas: 602')\n",
    "plt.grid(axis='x')\n",
    "sns.set_theme(style=\"white\")\n"
   ]
  },
  {
   "cell_type": "code",
   "execution_count": 166,
   "id": "21d9bcde",
   "metadata": {},
   "outputs": [
    {
     "name": "stdout",
     "output_type": "stream",
     "text": [
      "2095\n",
      "277\n",
      "325\n",
      "221\n",
      "325\n",
      "504\n"
     ]
    }
   ],
   "source": [
    "#Analisando o número de estagiários de 2016 a 2022\n",
    "df.head()\n",
    "quimica = print(len(df.loc[(df['Curso'] == 'Engenharia Química')]))\n",
    "ambiental = print(len(df.loc[(df['Curso'] == 'Engenharia Ambiental')]))\n",
    "bioquimica = print(len(df.loc[(df['Curso'] == 'Engenharia Bioquimica')]))\n",
    "fisica = print(len(df.loc[(df['Curso'] == 'Engenharia Física')]))\n",
    "materiais = print(len(df.loc[(df['Curso'] == 'Engenharia de Materiais')]))\n",
    "producao = print(len(df.loc[(df['Curso'] == 'Engenharia de Produção')]))\n",
    "\n",
    "eixox = [quimica,ambiental,bioquimica,fisica,materiais,producao]\n",
    "eixoy= np.arange(2016,2023,1)"
   ]
  },
  {
   "cell_type": "code",
   "execution_count": null,
   "id": "8e87dc35",
   "metadata": {},
   "outputs": [],
   "source": [
    "#Criando um gráfico com o nº de alunos de 2016-2022\n",
    "plt.figure(figsize=(10,5))\n",
    "nalunos = [1917,2027,2080,2111,2013,2135,1925]\n",
    "ano = [2016,2017,2018,2019,2020,2021,2022]\n",
    "sns.barplot(x=ano,y=nalunos,palette='mako');\n",
    "plt.title('Nº de alunos da EEL',fontweight='bold');\n",
    "plt.grid()"
   ]
  },
  {
   "cell_type": "code",
   "execution_count": null,
   "id": "1580bc76",
   "metadata": {},
   "outputs": [],
   "source": [
    "ax = sns.barplot(curso,porcentagem,palette = \"coolwarm\")\n",
    "plt.title('Porcentagem (%) de alunos que iniciaram estágio em 2022',fontweight='bold')#,color='white');\n",
    "#porcentagem = [31.3,28.7,29.4,21.5,32.4,23.3]    \n",
    "plt.text(-0.3,32,'31.3%')\n",
    "plt.text(0.7,29,'28.7%')\n",
    "plt.text(1.7,30,'29.4%')\n",
    "plt.text(2.7,22,'21.5%')\n",
    "plt.text(3.7,32.4,'32.4%')\n",
    "plt.text(4.7,24,'23.3%')\n"
   ]
  },
  {
   "cell_type": "markdown",
   "id": "d1625eec",
   "metadata": {},
   "source": [
    "Analisando os possíveis fatores que fazem com que Engenharia Bioquímica seja o curso com menor numero de estagiários.\n",
    "Primeiramente, vamos calcular qual a mediana das porcentagens dos estagiários, para que possamos encontrar nosso indicador. Assim será possível visualizar diferença entre a porcentagens de estagiários de EB em relação a mediana dos outros 5 cursos.\n",
    "\n",
    "obs: Utiliza-se a mediana ao invés da média pois ela despreza outliers."
   ]
  },
  {
   "cell_type": "code",
   "execution_count": null,
   "id": "3e402171",
   "metadata": {},
   "outputs": [],
   "source": [
    "#Primeiramente, vamos criar um indicador responsável por evidenciar a diferenção entre a porcentagem de estudates de EB\n",
    "porcentagem = sorted(porcentagem)\n",
    "mediana = st.median(porcentagem)\n",
    "print(f'A mediana do numeros de alunos da EEL que começaram a estagiar em 2022 é {mediana}%')"
   ]
  },
  {
   "cell_type": "code",
   "execution_count": null,
   "id": "269826b6",
   "metadata": {},
   "outputs": [],
   "source": [
    "#-- Engenharia Bioquímmica\n",
    "estagiarios_bioquimica = len(df.loc[(df['Data Início'] > '2022-01-01') & (df['Data Início'] < '2022-12-31') & \n",
    "                             (df['Curso'] == 'Engenharia Bioquimica')])\n",
    "total_alunos_bioquimica = 218\n",
    "porcentagem_estagiarios_bioquimica = (estagiarios_bioquimica/total_alunos_bioquimica)*100\n",
    "print(f'{porcentagem_estagiarios_bioquimica}% dos alunos que EB iniciaram estágio em 2022 corresponde a {estagiarios_bioquimica} estudantes')"
   ]
  },
  {
   "cell_type": "code",
   "execution_count": null,
   "id": "1c743d99",
   "metadata": {},
   "outputs": [],
   "source": [
    "indicador = mediana - porcentagem_estagiarios_bioquimica\n",
    "nalunos = int((indicador*218)/100)\n",
    "print(f'{indicador}% corresponde as {nalunos} alunos. O valor corresponde a diferença em relação a mediana')"
   ]
  },
  {
   "cell_type": "markdown",
   "id": "c9d600d3",
   "metadata": {},
   "source": [
    "Assim conseguimos identificar a magnitude de osso problema. Agora vamos trabalhar para identificar suas causas"
   ]
  },
  {
   "cell_type": "code",
   "execution_count": null,
   "id": "66e418b2",
   "metadata": {},
   "outputs": [],
   "source": [
    "from geopy.geocoders import Nominatim\n",
    "nome_empresa = df['Empresa'].value_counts().index.tolist()\n",
    "lat_lon = []\n",
    "for i in range(len(nome_empresa)):\n",
    "    empresa = str(input('Informe o nome da Empresa'))\n",
    "    localizacao = geolocalizador.geocode(empresa) \n",
    "    lat_lon.append(localizacao[-1])\n",
    "    print(lat_lon)"
   ]
  },
  {
   "cell_type": "code",
   "execution_count": 170,
   "id": "80a6a330",
   "metadata": {},
   "outputs": [
    {
     "data": {
      "text/plain": [
       "1881"
      ]
     },
     "execution_count": 170,
     "metadata": {},
     "output_type": "execute_result"
    },
    {
     "data": {
      "text/plain": [
       "<Figure size 500x500 with 0 Axes>"
      ]
     },
     "metadata": {},
     "output_type": "display_data"
    }
   ],
   "source": [
    "#Aplicando o Princípio de Pareto para identificar as empresas que mais concentram etagiários da EEL\n",
    "#20% das empresas concentram 80% dos estagiários\n",
    "# -- TEORIA\n",
    "#Quantas empresas nós temos?\n",
    "len(df['Empresa'].value_counts())\n",
    "# -- 600 empresas contratantes  \n",
    "concentracao_empresa = 0.2*len(df['Empresa'].value_counts())\n",
    "#print(concentracao_empresa)\n",
    "# -- 120 empresas concentram 80% dos estagiários\n",
    "\n",
    "# Quantos estagiários nós temos?\n",
    "#print(len(df))\n",
    "\n",
    "concetracao_estagiarios = 0.8*len(df)\n",
    "#print(concetracao_estagiarios)\n",
    "\n",
    "# -- PRÁTICA\n",
    "#df['Empresa'].value_counts(normalize=True).head(120)\n",
    "\n",
    "#Criando o gráfico de Pareto\n",
    "plt.figure(figsize=(5,5))\n",
    "#df['Empresa'].value_counts().head(120).plot(kind='bar');\n",
    "#df['Empresa'].value_counts(normalize=True).head(17)\n",
    "df['Empresa'].value_counts().head(17).sum()"
   ]
  },
  {
   "cell_type": "code",
   "execution_count": 169,
   "id": "33ca3764",
   "metadata": {},
   "outputs": [
    {
     "data": {
      "image/png": "[encoded data removed]",
      "text/plain": [
       "<Figure size 640x480 with 1 Axes>"
      ]
     },
     "metadata": {},
     "output_type": "display_data"
    }
   ],
   "source": [
    "deze7 = df['Empresa'].value_counts().head(17).index.tolist()\n",
    "x = ['BASF', 'EEL', 'CONFAB', 'JOHNSON & JOHNSON ', 'CRUZEIRO PAPEIS', 'ITAÚ', 'A.C NIELSEN ', 'PROCTER & GAMBLE', 'AMSTED MAXION', 'PLASTIC OMNIUM', '3M DO BRASIL', 'SUZANO PAPEL E CELULOSE', 'EMBRAER', 'GERDAU', 'INTERVET', 'MONSANTO DO BRASIL LTDA', 'BRASKEM']\n",
    "plt.bar(x,df['Empresa'].value_counts().head(17))\n",
    "plt.xticks(rotation=90);"
   ]
  }
 ],
 "metadata": {
  "kernelspec": {
   "display_name": "Python 3 (ipykernel)",
   "language": "python",
   "name": "python3"
  },
  "language_info": {
   "codemirror_mode": {
    "name": "ipython",
    "version": 3
   },
   "file_extension": ".py",
   "mimetype": "text/x-python",
   "name": "python",
   "nbconvert_exporter": "python",
   "pygments_lexer": "ipython3",
   "version": "3.9.13"
  }
 },
 "nbformat": 4,
 "nbformat_minor": 5
}
