{
 "cells": [
  {
   "cell_type": "code",
   "execution_count": 1,
   "id": "10a37729",
   "metadata": {},
   "outputs": [
    {
     "data": {
      "text/html": [
       "<div>\n",
       "<style scoped>\n",
       "    .dataframe tbody tr th:only-of-type {\n",
       "        vertical-align: middle;\n",
       "    }\n",
       "\n",
       "    .dataframe tbody tr th {\n",
       "        vertical-align: top;\n",
       "    }\n",
       "\n",
       "    .dataframe thead th {\n",
       "        text-align: right;\n",
       "    }\n",
       "</style>\n",
       "<table border=\"1\" class=\"dataframe\">\n",
       "  <thead>\n",
       "    <tr style=\"text-align: right;\">\n",
       "      <th></th>\n",
       "      <th>Notas</th>\n",
       "      <th>Situação</th>\n",
       "      <th>email</th>\n",
       "      <th>Aluno</th>\n",
       "    </tr>\n",
       "  </thead>\n",
       "  <tbody>\n",
       "    <tr>\n",
       "      <th>0</th>\n",
       "      <td>10.0</td>\n",
       "      <td>Aprovado</td>\n",
       "      <td>Mandar email</td>\n",
       "      <td>Pedro</td>\n",
       "    </tr>\n",
       "    <tr>\n",
       "      <th>1</th>\n",
       "      <td>7.0</td>\n",
       "      <td>Aprovado</td>\n",
       "      <td>Mandar email</td>\n",
       "      <td>NaN</td>\n",
       "    </tr>\n",
       "    <tr>\n",
       "      <th>2</th>\n",
       "      <td>3.0</td>\n",
       "      <td>Recuperação</td>\n",
       "      <td>Não mandar</td>\n",
       "      <td>Marcos</td>\n",
       "    </tr>\n",
       "    <tr>\n",
       "      <th>3</th>\n",
       "      <td>5.0</td>\n",
       "      <td>Aprovado</td>\n",
       "      <td>Mandar email</td>\n",
       "      <td>João Paulo</td>\n",
       "    </tr>\n",
       "    <tr>\n",
       "      <th>4</th>\n",
       "      <td>2.7</td>\n",
       "      <td>Reprovado</td>\n",
       "      <td>Não mandar</td>\n",
       "      <td>Marcela</td>\n",
       "    </tr>\n",
       "  </tbody>\n",
       "</table>\n",
       "</div>"
      ],
      "text/plain": [
       "   Notas     Situação         email       Aluno\n",
       "0   10.0     Aprovado  Mandar email       Pedro\n",
       "1    7.0     Aprovado  Mandar email         NaN\n",
       "2    3.0  Recuperação    Não mandar      Marcos\n",
       "3    5.0     Aprovado  Mandar email  João Paulo\n",
       "4    2.7    Reprovado    Não mandar     Marcela"
      ]
     },
     "execution_count": 1,
     "metadata": {},
     "output_type": "execute_result"
    }
   ],
   "source": [
    "import pandas as pd\n",
    "dicionario = {'Notas':[10,7,3,5,2.7]}\n",
    "df2 = pd.DataFrame(dicionario)\n",
    "\n",
    "df2['Situação'] = df2['Notas'].apply(lambda x: 'Aprovado' if x>= 5 else ('Recuperação' if x>=3 and x<5 else 'Reprovado'))\n",
    "df2['email'] = df2['Situação'].apply(lambda x: 'Mandar email' if x == 'Aprovado' else 'Não mandar')\n",
    "aluno = {10:'Pedro',3.0:'Marcos',5.0:'João Paulo',2.7:'Marcela'}\n",
    "\n",
    "df2['Aluno'] = df2['Notas'].map(aluno)\n",
    "df2.head()"
   ]
  },
  {
   "cell_type": "code",
   "execution_count": null,
   "id": "e2055528",
   "metadata": {},
   "outputs": [],
   "source": [
    "\n",
    "'''\n",
    "Olá.\n",
    "Seja bem vindo a nossa primeira análise de dados. Aqui vamos tratar e interpretar os valores disponibilizados pelo setor de \n",
    "ESTÁGIOS da EEL (estagio@eel.usp.br) referentes as carreiras de estágios que os estudantes da graduação ingressaram nos \n",
    "\n",
    "--\n",
    "Após o processo de obtenção de dados, vamos seguir o seguinte roteiro: \n",
    "1º Limpeza e aplicação de filtros\n",
    "2º Organização e interpretação \n",
    "3º Visualização \n",
    "--\n",
    "Assim, será possível encontrar respostar concretas para as seguintes perguntas: Quais são as empresas com maior quantidade\n",
    "de estudantes da EEL? Qual o principal período de recrutamento? Onde estão localizadas as principais empresas que contratam \n",
    "os alunos da graduação? \n",
    "--\n",
    "Assim, nosso principal objetivo será auxiliar os alunos através de conclusões numéricas encontradas a partir da análise de \n",
    "dados com Python.\n",
    "--\n",
    "- O projeto foi elaborado pelos alunos:\n",
    "Pedro Garcez, Engenharia Física (pedroogarcez@usp.br)\n",
    "João Silva, Engenharia de Produção (joaosilva19@usp.br)\n",
    "\n",
    "'''"
   ]
  },
  {
   "cell_type": "code",
   "execution_count": 1,
   "id": "063d452d",
   "metadata": {},
   "outputs": [
    {
     "data": {
      "text/html": [
       "<div>\n",
       "<style scoped>\n",
       "    .dataframe tbody tr th:only-of-type {\n",
       "        vertical-align: middle;\n",
       "    }\n",
       "\n",
       "    .dataframe tbody tr th {\n",
       "        vertical-align: top;\n",
       "    }\n",
       "\n",
       "    .dataframe thead th {\n",
       "        text-align: right;\n",
       "    }\n",
       "</style>\n",
       "<table border=\"1\" class=\"dataframe\">\n",
       "  <thead>\n",
       "    <tr style=\"text-align: right;\">\n",
       "      <th></th>\n",
       "      <th>Curso</th>\n",
       "      <th>Empresa</th>\n",
       "      <th>Data Início</th>\n",
       "      <th>Data Término</th>\n",
       "    </tr>\n",
       "  </thead>\n",
       "  <tbody>\n",
       "    <tr>\n",
       "      <th>0</th>\n",
       "      <td>88101-Engenharia Industrial Química</td>\n",
       "      <td>3GEN CONSULTORIA EMPRESARIAL LTDA</td>\n",
       "      <td>23/03/2018</td>\n",
       "      <td>19/12/2018</td>\n",
       "    </tr>\n",
       "    <tr>\n",
       "      <th>1</th>\n",
       "      <td>88201-Engenharia de Materiais</td>\n",
       "      <td>3GEN CONSULTORIA EMPRESARIAL LTDA</td>\n",
       "      <td>20/07/2017</td>\n",
       "      <td>31/12/2017</td>\n",
       "    </tr>\n",
       "    <tr>\n",
       "      <th>2</th>\n",
       "      <td>88052-Engenharia Química</td>\n",
       "      <td>3M DO BRASIL LTDA</td>\n",
       "      <td>15/01/2018</td>\n",
       "      <td>31/12/2018</td>\n",
       "    </tr>\n",
       "    <tr>\n",
       "      <th>3</th>\n",
       "      <td>88052-Engenharia Química</td>\n",
       "      <td>3M DO BRASIL LTDA</td>\n",
       "      <td>15/02/2018</td>\n",
       "      <td>14/02/2019</td>\n",
       "    </tr>\n",
       "    <tr>\n",
       "      <th>4</th>\n",
       "      <td>88052-Engenharia Química</td>\n",
       "      <td>3M DO BRASIL LTDA</td>\n",
       "      <td>24/07/2017</td>\n",
       "      <td>23/07/2018</td>\n",
       "    </tr>\n",
       "  </tbody>\n",
       "</table>\n",
       "</div>"
      ],
      "text/plain": [
       "                                 Curso                            Empresa  \\\n",
       "0  88101-Engenharia Industrial Química  3GEN CONSULTORIA EMPRESARIAL LTDA   \n",
       "1        88201-Engenharia de Materiais  3GEN CONSULTORIA EMPRESARIAL LTDA   \n",
       "2             88052-Engenharia Química                  3M DO BRASIL LTDA   \n",
       "3             88052-Engenharia Química                  3M DO BRASIL LTDA   \n",
       "4             88052-Engenharia Química                  3M DO BRASIL LTDA   \n",
       "\n",
       "  Data Início Data Término  \n",
       "0  23/03/2018   19/12/2018  \n",
       "1  20/07/2017   31/12/2017  \n",
       "2  15/01/2018   31/12/2018  \n",
       "3  15/02/2018   14/02/2019  \n",
       "4  24/07/2017   23/07/2018  "
      ]
     },
     "execution_count": 1,
     "metadata": {},
     "output_type": "execute_result"
    }
   ],
   "source": [
    "#Importando as bibliotecas responsáveis por:\n",
    "#Análise e manipulação dos dados\n",
    "import pandas as pd\n",
    "#Operações matemáticas\n",
    "import numpy as np\n",
    "#Visualização e plotagem de gráficos\n",
    "import matplotlib.pyplot as plt\n",
    "import seaborn as sns\n",
    "\n",
    "\n",
    "#Criando o dataframe\n",
    "df = pd.read_csv('Bruto_estagio_eel.csv')\n",
    "#Visualizando o dataframe através da função 'head'\n",
    "df.head()"
   ]
  },
  {
   "cell_type": "code",
   "execution_count": 2,
   "id": "1a35acc7",
   "metadata": {},
   "outputs": [
    {
     "data": {
      "text/plain": [
       "0       88101-Engenharia Industrial Química\n",
       "1             88201-Engenharia de Materiais\n",
       "2                  88052-Engenharia Química\n",
       "3                  88052-Engenharia Química\n",
       "4                  88052-Engenharia Química\n",
       "                       ...                 \n",
       "3886                                     0-\n",
       "3887               88052-Engenharia Química\n",
       "3888                                     0-\n",
       "3889            88152-Engenharia Bioquímica\n",
       "3890               88052-Engenharia Química\n",
       "Name: Curso, Length: 3891, dtype: object"
      ]
     },
     "execution_count": 2,
     "metadata": {},
     "output_type": "execute_result"
    }
   ],
   "source": [
    "#Utilizando a função dropna para remover linhas que possuem qual valor vazio em uma de suas colunas.\n",
    "df.dropna(axis=0,how='any')\n",
    "df['Curso']"
   ]
  },
  {
   "cell_type": "code",
   "execution_count": 3,
   "id": "82cd86b2",
   "metadata": {},
   "outputs": [
    {
     "data": {
      "text/html": [
       "<div>\n",
       "<style scoped>\n",
       "    .dataframe tbody tr th:only-of-type {\n",
       "        vertical-align: middle;\n",
       "    }\n",
       "\n",
       "    .dataframe tbody tr th {\n",
       "        vertical-align: top;\n",
       "    }\n",
       "\n",
       "    .dataframe thead th {\n",
       "        text-align: right;\n",
       "    }\n",
       "</style>\n",
       "<table border=\"1\" class=\"dataframe\">\n",
       "  <thead>\n",
       "    <tr style=\"text-align: right;\">\n",
       "      <th></th>\n",
       "      <th>Curso</th>\n",
       "      <th>Empresa</th>\n",
       "      <th>Data Início</th>\n",
       "      <th>Data Término</th>\n",
       "    </tr>\n",
       "  </thead>\n",
       "  <tbody>\n",
       "    <tr>\n",
       "      <th>0</th>\n",
       "      <td>88101-Engenharia Industrial Química</td>\n",
       "      <td>3GEN CONSULTORIA EMPRESARIAL LTDA</td>\n",
       "      <td>23/03/2018</td>\n",
       "      <td>19/12/2018</td>\n",
       "    </tr>\n",
       "    <tr>\n",
       "      <th>1</th>\n",
       "      <td>88201-Engenharia de Materiais</td>\n",
       "      <td>3GEN CONSULTORIA EMPRESARIAL LTDA</td>\n",
       "      <td>20/07/2017</td>\n",
       "      <td>31/12/2017</td>\n",
       "    </tr>\n",
       "    <tr>\n",
       "      <th>2</th>\n",
       "      <td>88052-Engenharia Química</td>\n",
       "      <td>3M DO BRASIL LTDA</td>\n",
       "      <td>15/01/2018</td>\n",
       "      <td>31/12/2018</td>\n",
       "    </tr>\n",
       "    <tr>\n",
       "      <th>3</th>\n",
       "      <td>88052-Engenharia Química</td>\n",
       "      <td>3M DO BRASIL LTDA</td>\n",
       "      <td>15/02/2018</td>\n",
       "      <td>14/02/2019</td>\n",
       "    </tr>\n",
       "    <tr>\n",
       "      <th>4</th>\n",
       "      <td>88052-Engenharia Química</td>\n",
       "      <td>3M DO BRASIL LTDA</td>\n",
       "      <td>24/07/2017</td>\n",
       "      <td>23/07/2018</td>\n",
       "    </tr>\n",
       "  </tbody>\n",
       "</table>\n",
       "</div>"
      ],
      "text/plain": [
       "                                 Curso                            Empresa  \\\n",
       "0  88101-Engenharia Industrial Química  3GEN CONSULTORIA EMPRESARIAL LTDA   \n",
       "1        88201-Engenharia de Materiais  3GEN CONSULTORIA EMPRESARIAL LTDA   \n",
       "2             88052-Engenharia Química                  3M DO BRASIL LTDA   \n",
       "3             88052-Engenharia Química                  3M DO BRASIL LTDA   \n",
       "4             88052-Engenharia Química                  3M DO BRASIL LTDA   \n",
       "\n",
       "  Data Início Data Término  \n",
       "0  23/03/2018   19/12/2018  \n",
       "1  20/07/2017   31/12/2017  \n",
       "2  15/01/2018   31/12/2018  \n",
       "3  15/02/2018   14/02/2019  \n",
       "4  24/07/2017   23/07/2018  "
      ]
     },
     "execution_count": 3,
     "metadata": {},
     "output_type": "execute_result"
    }
   ],
   "source": [
    "#Identificando os valores presentes na coluna Curso do no DataFrame criado\n",
    "df.head()"
   ]
  },
  {
   "cell_type": "code",
   "execution_count": 4,
   "id": "fbae10a4",
   "metadata": {
    "scrolled": true
   },
   "outputs": [
    {
     "data": {
      "text/html": [
       "<div>\n",
       "<style scoped>\n",
       "    .dataframe tbody tr th:only-of-type {\n",
       "        vertical-align: middle;\n",
       "    }\n",
       "\n",
       "    .dataframe tbody tr th {\n",
       "        vertical-align: top;\n",
       "    }\n",
       "\n",
       "    .dataframe thead th {\n",
       "        text-align: right;\n",
       "    }\n",
       "</style>\n",
       "<table border=\"1\" class=\"dataframe\">\n",
       "  <thead>\n",
       "    <tr style=\"text-align: right;\">\n",
       "      <th></th>\n",
       "      <th>Curso</th>\n",
       "      <th>Empresa</th>\n",
       "      <th>Data Início</th>\n",
       "      <th>Data Término</th>\n",
       "    </tr>\n",
       "  </thead>\n",
       "  <tbody>\n",
       "    <tr>\n",
       "      <th>0</th>\n",
       "      <td>88101-Engenharia Industrial Química</td>\n",
       "      <td>3GEN CONSULTORIA EMPRESARIAL LTDA</td>\n",
       "      <td>23/03/2018</td>\n",
       "      <td>19/12/2018</td>\n",
       "    </tr>\n",
       "    <tr>\n",
       "      <th>1</th>\n",
       "      <td>88201-Engenharia de Materiais</td>\n",
       "      <td>3GEN CONSULTORIA EMPRESARIAL LTDA</td>\n",
       "      <td>20/07/2017</td>\n",
       "      <td>31/12/2017</td>\n",
       "    </tr>\n",
       "    <tr>\n",
       "      <th>2</th>\n",
       "      <td>88052-Engenharia Química</td>\n",
       "      <td>3M DO BRASIL LTDA</td>\n",
       "      <td>15/01/2018</td>\n",
       "      <td>31/12/2018</td>\n",
       "    </tr>\n",
       "    <tr>\n",
       "      <th>3</th>\n",
       "      <td>88052-Engenharia Química</td>\n",
       "      <td>3M DO BRASIL LTDA</td>\n",
       "      <td>15/02/2018</td>\n",
       "      <td>14/02/2019</td>\n",
       "    </tr>\n",
       "    <tr>\n",
       "      <th>4</th>\n",
       "      <td>88052-Engenharia Química</td>\n",
       "      <td>3M DO BRASIL LTDA</td>\n",
       "      <td>24/07/2017</td>\n",
       "      <td>23/07/2018</td>\n",
       "    </tr>\n",
       "  </tbody>\n",
       "</table>\n",
       "</div>"
      ],
      "text/plain": [
       "                                 Curso                            Empresa  \\\n",
       "0  88101-Engenharia Industrial Química  3GEN CONSULTORIA EMPRESARIAL LTDA   \n",
       "1        88201-Engenharia de Materiais  3GEN CONSULTORIA EMPRESARIAL LTDA   \n",
       "2             88052-Engenharia Química                  3M DO BRASIL LTDA   \n",
       "3             88052-Engenharia Química                  3M DO BRASIL LTDA   \n",
       "4             88052-Engenharia Química                  3M DO BRASIL LTDA   \n",
       "\n",
       "  Data Início Data Término  \n",
       "0  23/03/2018   19/12/2018  \n",
       "1  20/07/2017   31/12/2017  \n",
       "2  15/01/2018   31/12/2018  \n",
       "3  15/02/2018   14/02/2019  \n",
       "4  24/07/2017   23/07/2018  "
      ]
     },
     "execution_count": 4,
     "metadata": {},
     "output_type": "execute_result"
    }
   ],
   "source": [
    "'''\n",
    "Como vemos acima, nossa coluna 'Curso' apresenta valores repetidos e valores nulos. Para tratar esses dados, vamos remover \n",
    "os valores nulos que não nos interessam.\n",
    "\n",
    "'''\n",
    "#Localizando os valores repetidos com a função 'loc' e os removendo com a função 'drop'\n",
    "\n",
    "zero = df.loc[(df['Curso'] == '0-')]\n",
    "df.drop(zero.index,inplace = True)\n",
    "df['Curso'].value_counts()\n",
    "\n",
    "n1 = df.loc[(df['Curso'] == '18050-')]\n",
    "df.drop(n1.index,inplace=True)\n",
    "\n",
    "n2 = df.loc[(df['Curso'] == '59023-')]\n",
    "df.drop(n2.index,inplace=True)\n",
    "\n",
    "df['Curso'].value_counts()\n",
    "df.head()\n",
    "\n",
    "#Exportando arquivo\n",
    "#nome_arquivo = 'estagio_compartilhado.xlsx'\n",
    "#df.to_excel(nome_arquivo)\n",
    "#print('DataFrame is written to Excel File successfully.')"
   ]
  },
  {
   "cell_type": "code",
   "execution_count": 5,
   "id": "ea7b2952",
   "metadata": {},
   "outputs": [
    {
     "data": {
      "text/plain": [
       "Química       2088\n",
       "Produção       518\n",
       "Bioquímica     318\n",
       "Materiais      315\n",
       "Ambiental      283\n",
       "Física         221\n",
       "Name: Curso filtrado, dtype: int64"
      ]
     },
     "execution_count": 5,
     "metadata": {},
     "output_type": "execute_result"
    }
   ],
   "source": [
    "'''\n",
    "Após remover os valores inválidos, vamos agrupar os dados de Engenharia Química e Engenharia Industrial Química [1], pois\n",
    "são o mesmo curso. Além disso, também vamos agrupar linhas de EQ com códigos diferentes [2]. O mesmo vai se aplicar para\n",
    "os outros cursos que estão repetidos\n",
    "\n",
    "Através da função anônima (lambda) será possível selecionar o curso de cada aluno estágiario sem modificar o conteúdo das \n",
    "das outras colunas. O processo também pode ser feito com outras funções, mas iremos utilizar a anônima para apresentação\n",
    "da ferramenta.\n",
    "'''\n",
    "\n",
    "df['Curso filtrado'] = df['Curso'].apply(lambda x: x.split()[-1])\n",
    "df['Curso filtrado'].value_counts()"
   ]
  },
  {
   "cell_type": "code",
   "execution_count": 6,
   "id": "69570f62",
   "metadata": {},
   "outputs": [
    {
     "name": "stdout",
     "output_type": "stream",
     "text": [
      "568\n"
     ]
    }
   ],
   "source": [
    "'''\n",
    "Após todo processo de filtragem, agora vamos começar a interpretar nossos dados.\n",
    "\n",
    "Primeira proposta:\n",
    "- Identificar qual a porcentagem de alunos da EEL que estão estagiando em 2022. \n",
    "Para isso, será necessário primeiramente transformar nossa coluna data de início para o tipo 'datetime' [3]. Assim será\n",
    "possível determinar a primera data do ano [4] e selecionar somente os alunos que começaram seu estágio em 2022 [5] através\n",
    "da função 'loc' [5]\n",
    "'''\n",
    "\n",
    "#Transformando a data em datetime [3]\n",
    "df['Data Início'] = pd.to_datetime(df['Data Início'])\n",
    "df['Data Término'] = pd.to_datetime(df['Data Término'])\n",
    "\n",
    "#Selecionando a primeira data do ano [4]\n",
    "datainicio = '2022-01-01'\n",
    "datatermino = '2022-12-31'\n",
    "\n",
    "#estagiarios = len(df.loc[(df['Data Início'] > datainicio) & (df['Data Início'] < datatermino)])\n",
    "estagiarios = df.loc[(df['Data Início'] > datainicio) & (df['Data Início'] < datatermino)]\n",
    "print(len(estagiarios))\n",
    "#total_alunos = 1925\n",
    "\n",
    "#porcentagem_estagiarios = (estagiarios/total_alunos)*100\n",
    "#print(f'Em 2022 a EEL possui {estagiarios} estagiários.')\n",
    "#print(f'Em 2022 a EEL possui {total_alunos} alunos.')\n",
    "#print(f'{porcentagem_estagiarios} dos alunos da EEL estão estagiando em 2022.')"
   ]
  },
  {
   "cell_type": "code",
   "execution_count": 7,
   "id": "55160a48",
   "metadata": {},
   "outputs": [
    {
     "name": "stdout",
     "output_type": "stream",
     "text": [
      "31.668437832093517% dos alunos de EQ estão estagiando\n",
      "28.143712574850298% dos alunos de EM estão estagiando\n",
      "31.05263157894737% dos alunos de EA estão estagiando\n",
      "21.100917431192663% dos alunos de EB estão estagiando\n",
      "32.88888888888889% dos alunos de EP estão estagiando\n",
      "23.91304347826087% dos alunos de EF estão estagiando\n"
     ]
    }
   ],
   "source": [
    "#Identificando os valores referentes a cada curso\n",
    "\n",
    "#-- Engenharia Química\n",
    "estagiarios_quimica = len(df.loc[(df['Data Início'] > datainicio) & (df['Data Início'] < datatermino) & \n",
    "                             (df['Curso filtrado'] == 'Química')])\n",
    "total_alunos_quimica = 941\n",
    "porcentagem_estagiarios_quimica = (estagiarios_quimica/total_alunos_quimica)*100\n",
    "print(f'{porcentagem_estagiarios_quimica}% dos alunos de EQ estão estagiando')\n",
    "\n",
    "#-- Engenharia de Materiais\n",
    "estagiarios_materiais = len(df.loc[(df['Data Início'] > datainicio) & (df['Data Início'] < datatermino) & \n",
    "                             (df['Curso filtrado'] == 'Materiais')])\n",
    "total_alunos_materiais = 167\n",
    "porcentagem_estagiarios_materiais = (estagiarios_materiais/total_alunos_materiais)*100\n",
    "print(f'{porcentagem_estagiarios_materiais}% dos alunos de EM estão estagiando')\n",
    "      \n",
    "\n",
    "#-- Engenharia Ambiental\n",
    "estagiarios_ambiental = len(df.loc[(df['Data Início'] > datainicio) & (df['Data Início'] < datatermino) & \n",
    "                             (df['Curso filtrado'] == 'Ambiental')])\n",
    "total_alunos_ambiental = 190\n",
    "porcentagem_estagiarios_ambiental = (estagiarios_ambiental/total_alunos_ambiental)*100\n",
    "print(f'{porcentagem_estagiarios_ambiental}% dos alunos de EA estão estagiando')\n",
    "\n",
    "#-- Engenharia Bioquímmica\n",
    "estagiarios_bioquimica = len(df.loc[(df['Data Início'] > datainicio) & (df['Data Início'] < datatermino) & \n",
    "                             (df['Curso filtrado'] == 'Bioquímica')])\n",
    "total_alunos_bioquimica = 218\n",
    "porcentagem_estagiarios_bioquimica = (estagiarios_bioquimica/total_alunos_bioquimica)*100\n",
    "print(f'{porcentagem_estagiarios_bioquimica}% dos alunos de EB estão estagiando')\n",
    "\n",
    "#-- Engenharia de Produção\n",
    "estagiarios_producao = len(df.loc[(df['Data Início'] > datainicio) & (df['Data Início'] < datatermino) & \n",
    "                             (df['Curso filtrado'] == 'Produção')])\n",
    "total_alunos_producao = 225\n",
    "porcentagem_estagiarios_producao = (estagiarios_producao/total_alunos_producao)*100\n",
    "print(f'{porcentagem_estagiarios_producao}% dos alunos de EP estão estagiando')\n",
    "\n",
    "#-- Engenharia Física\n",
    "estagiarios_fisica = len(df.loc[(df['Data Início'] > datainicio) & (df['Data Início'] < datatermino) & \n",
    "                             (df['Curso filtrado'] == 'Física')])\n",
    "total_alunos_fisica = 184\n",
    "porcentagem_estagiarios_fisica = (estagiarios_fisica/total_alunos_fisica)*100\n",
    "print(f'{porcentagem_estagiarios_fisica}% dos alunos de EF estão estagiando')"
   ]
  },
  {
   "cell_type": "code",
   "execution_count": 55,
   "id": "94cac77e",
   "metadata": {},
   "outputs": [
    {
     "name": "stderr",
     "output_type": "stream",
     "text": [
      "C:\\Users\\55129\\anaconda3\\lib\\site-packages\\seaborn\\_decorators.py:36: FutureWarning: Pass the following variables as keyword args: x, y. From version 0.12, the only valid positional argument will be `data`, and passing other arguments without an explicit keyword will result in an error or misinterpretation.\n",
      "  warnings.warn(\n",
      "No handles with labels found to put in legend.\n"
     ]
    },
    {
     "data": {
      "image/png": "[encoded data removed]",
      "text/plain": [
       "<Figure size 720x504 with 1 Axes>"
      ]
     },
     "metadata": {
      "needs_background": "dark"
     },
     "output_type": "display_data"
    }
   ],
   "source": [
    "#Plotando o gráfico em relação aos valores acima\n",
    "plt.figure(figsize=(10,7))\n",
    "curso = ['EQ','EM','EA','EB','EP','EF']\n",
    "porcentagem = [31.3,28.7,29.4,21.5,32.4,23.3]\n",
    "ax = sns.barplot(curso,porcentagem,palette = \"coolwarm\")\n",
    "plt.legend(loc='upper right',title='Total de alunos:1925')\n",
    "ax.tick_params(colors='white')\n",
    "plt.title('Porcentagem (%) de alunos estágiarios em 2022',color='white',fontweight='bold');"
   ]
  },
  {
   "cell_type": "code",
   "execution_count": 9,
   "id": "ace33857",
   "metadata": {},
   "outputs": [
    {
     "data": {
      "text/plain": [
       "'\\nAgora, vamos direcionar nossos estudos para análise das empresas. Assim, será possível destacar as empresas que tem maior\\nnúmero de alunos estagiários da EEL.\\n'"
      ]
     },
     "execution_count": 9,
     "metadata": {},
     "output_type": "execute_result"
    }
   ],
   "source": [
    "'''\n",
    "Agora, vamos direcionar nossos estudos para análise das empresas. Assim, será possível destacar as empresas que tem maior\n",
    "número de alunos estagiários da EEL.\n",
    "'''"
   ]
  },
  {
   "cell_type": "code",
   "execution_count": 10,
   "id": "a2a857fb",
   "metadata": {},
   "outputs": [
    {
     "data": {
      "text/plain": [
       "\"\\nAntes de começar nossa análise, assim como foi feito para coluna cursos, também é necessário aplicar uma série de filtros\\nna coluna empresas. Como podemos observar, devido as diferentes formas de identificação no nome de cada empresa, existem \\nrepetições que podem atrapalhar nossos resultados. Um exemplo é a Suzano: 'SUZANO S.A','SUZANO PAPEL E CELULOSE S/A ' e \\n'SUZANO S.A. '. Para isso, vamos utilizar um dicionário criado para que seja possível unificar todos os nomes contidos na \\ncoluna.\\n\""
      ]
     },
     "execution_count": 10,
     "metadata": {},
     "output_type": "execute_result"
    }
   ],
   "source": [
    "'''\n",
    "Antes de começar nossa análise, assim como foi feito para coluna cursos, também é necessário aplicar uma série de filtros\n",
    "na coluna empresas. Como podemos observar, devido as diferentes formas de identificação no nome de cada empresa, existem \n",
    "repetições que podem atrapalhar nossos resultados. Um exemplo é a Suzano: 'SUZANO S.A','SUZANO PAPEL E CELULOSE S/A ' e \n",
    "'SUZANO S.A. '. Para isso, vamos utilizar um dicionário criado para que seja possível unificar todos os nomes contidos na \n",
    "coluna.\n",
    "'''"
   ]
  },
  {
   "cell_type": "code",
   "execution_count": 11,
   "id": "74d5b1e4",
   "metadata": {},
   "outputs": [
    {
     "name": "stderr",
     "output_type": "stream",
     "text": [
      "C:\\Users\\55129\\anaconda3\\lib\\site-packages\\seaborn\\_decorators.py:36: FutureWarning: Pass the following variables as keyword args: x, y. From version 0.12, the only valid positional argument will be `data`, and passing other arguments without an explicit keyword will result in an error or misinterpretation.\n",
      "  warnings.warn(\n"
     ]
    },
    {
     "data": {
      "text/plain": [
       "Text(0.5, 1.0, 'Nº de alunos da EEL 2016-2022')"
      ]
     },
     "execution_count": 11,
     "metadata": {},
     "output_type": "execute_result"
    },
    {
     "data": {
      "image/png": "[encoded data removed]",
      "text/plain": [
       "<Figure size 432x288 with 1 Axes>"
      ]
     },
     "metadata": {
      "needs_background": "light"
     },
     "output_type": "display_data"
    }
   ],
   "source": [
    " #Agora vamos analisar a variação em relação a porcentagem de estagiários na EEL no intervalo de 2016 a 2022.\n",
    "    #Porcentagem estagiarios = nº estagiários / nº total de alunos\n",
    "#Primeiramente, vamos analisar quantos alunos a EEL possui.\n",
    "plt.figure()\n",
    "num_aluno = [1917,2027,2080,2111,2103,2135,1925]\n",
    "ano = [2016,2017,2018,2019,2020,2021,2022]\n",
    "ax = sns.barplot(ano,num_aluno,palette = \"mako\")\n",
    "plt.title('Nº de alunos da EEL 2016-2022')"
   ]
  },
  {
   "cell_type": "code",
   "execution_count": 12,
   "id": "5d88b9f1",
   "metadata": {},
   "outputs": [
    {
     "name": "stdout",
     "output_type": "stream",
     "text": [
      "299\n"
     ]
    }
   ],
   "source": [
    "#Analisando o número de estagiários em cada ano\n",
    "#-- 2016\n",
    "datainicio2016 = '2016-01-01'\n",
    "datatermino2016 = '2016-12-31'\n",
    "\n",
    "estagiarios2016 = len(df.loc[(df['Data Início'] > datainicio2016) & (df['Data Início'] < datatermino2016)])\n",
    "print(estagiarios2016) #= 299 estagiários"
   ]
  },
  {
   "cell_type": "code",
   "execution_count": 13,
   "id": "593daec7",
   "metadata": {},
   "outputs": [
    {
     "name": "stdout",
     "output_type": "stream",
     "text": [
      "497\n"
     ]
    }
   ],
   "source": [
    "#-- 2017\n",
    "datainicio2017 = '2017-01-01'\n",
    "datatermino2017 = '2017-12-31'\n",
    "\n",
    "estagiarios2017 = len(df.loc[(df['Data Início'] > datainicio2017) & (df['Data Início'] < datatermino2017)])\n",
    "print(estagiarios2017) #= 497"
   ]
  },
  {
   "cell_type": "code",
   "execution_count": 14,
   "id": "56348004",
   "metadata": {},
   "outputs": [
    {
     "name": "stdout",
     "output_type": "stream",
     "text": [
      "551\n"
     ]
    }
   ],
   "source": [
    "#-- 2018 \n",
    "datainicio2018 = '2018-01-01'\n",
    "datatermino2018 = '2018-12-31'\n",
    "\n",
    "estagiarios2018 = len(df.loc[(df['Data Início'] > datainicio2018) & (df['Data Início'] < datatermino2018)])\n",
    "print(estagiarios2018) #= 551"
   ]
  },
  {
   "cell_type": "code",
   "execution_count": 15,
   "id": "9a2e0bee",
   "metadata": {},
   "outputs": [
    {
     "name": "stdout",
     "output_type": "stream",
     "text": [
      "552\n"
     ]
    }
   ],
   "source": [
    "#-- 2019\n",
    "datainicio2019 = '2019-01-01'\n",
    "datatermino2019 = '2019-12-31'\n",
    "\n",
    "estagiarios2019 = len(df.loc[(df['Data Início'] > datainicio2019) & (df['Data Início'] < datatermino2019)])\n",
    "print(estagiarios2019) #= 552"
   ]
  },
  {
   "cell_type": "code",
   "execution_count": 16,
   "id": "2d4c53b1",
   "metadata": {},
   "outputs": [
    {
     "name": "stdout",
     "output_type": "stream",
     "text": [
      "426\n"
     ]
    }
   ],
   "source": [
    "#-- 2020\n",
    "datainicio2020 = '2020-01-01'\n",
    "datatermino2020 = '2020-12-31'\n",
    "\n",
    "estagiarios2020 = len(df.loc[(df['Data Início'] > datainicio2020) & (df['Data Início'] < datatermino2020)])\n",
    "print(estagiarios2020) #= 426"
   ]
  },
  {
   "cell_type": "code",
   "execution_count": 17,
   "id": "32e756d6",
   "metadata": {},
   "outputs": [
    {
     "name": "stdout",
     "output_type": "stream",
     "text": [
      "549\n"
     ]
    }
   ],
   "source": [
    "#-- 2021\n",
    "datainicio2021 = '2021-01-01'\n",
    "datatermino2021 = '2021-12-31'\n",
    "\n",
    "estagiarios2021 = len(df.loc[(df['Data Início'] > datainicio2021) & (df['Data Início'] < datatermino2021)])\n",
    "print(estagiarios2021) #549"
   ]
  },
  {
   "cell_type": "code",
   "execution_count": 18,
   "id": "9fa3858d",
   "metadata": {},
   "outputs": [
    {
     "name": "stdout",
     "output_type": "stream",
     "text": [
      "568\n"
     ]
    }
   ],
   "source": [
    "#-- 2022\n",
    "datainicio = '2022-01-01'\n",
    "datatermino = '2022-12-31'\n",
    "\n",
    "#estagiarios = len(df.loc[(df['Data Início'] > datainicio) & (df['Data Início'] < datatermino)])\n",
    "estagiarios2020 = len(df.loc[(df['Data Início'] > datainicio) & (df['Data Início'] < datatermino)])\n",
    "print(estagiarios2020)"
   ]
  },
  {
   "cell_type": "code",
   "execution_count": 19,
   "id": "3c015895",
   "metadata": {},
   "outputs": [
    {
     "name": "stderr",
     "output_type": "stream",
     "text": [
      "C:\\Users\\55129\\anaconda3\\lib\\site-packages\\seaborn\\_decorators.py:36: FutureWarning: Pass the following variables as keyword args: x, y. From version 0.12, the only valid positional argument will be `data`, and passing other arguments without an explicit keyword will result in an error or misinterpretation.\n",
      "  warnings.warn(\n"
     ]
    },
    {
     "data": {
      "text/plain": [
       "Text(0.5, 1.0, 'Nº de estagiários na EEL 2016-2022')"
      ]
     },
     "execution_count": 19,
     "metadata": {},
     "output_type": "execute_result"
    },
    {
     "data": {
      "image/png": "[encoded data removed]",
      "text/plain": [
       "<Figure size 432x288 with 1 Axes>"
      ]
     },
     "metadata": {
      "needs_background": "light"
     },
     "output_type": "display_data"
    }
   ],
   "source": [
    "#Plotando o número de estágiarios por anos \n",
    "estagiarios = [299,497,551,552,426,549,568]\n",
    "ax1 = sns.barplot(ano,estagiarios,palette = \"mako\")\n",
    "plt.title('Nº de estagiários na EEL 2016-2022')"
   ]
  },
  {
   "cell_type": "code",
   "execution_count": 20,
   "id": "ccece7a8",
   "metadata": {},
   "outputs": [
    {
     "name": "stderr",
     "output_type": "stream",
     "text": [
      "C:\\Users\\55129\\anaconda3\\lib\\site-packages\\seaborn\\_decorators.py:36: FutureWarning: Pass the following variables as keyword args: x, y. From version 0.12, the only valid positional argument will be `data`, and passing other arguments without an explicit keyword will result in an error or misinterpretation.\n",
      "  warnings.warn(\n"
     ]
    },
    {
     "data": {
      "image/png": "[encoded data removed]",
      "text/plain": [
       "<Figure size 432x288 with 1 Axes>"
      ]
     },
     "metadata": {
      "needs_background": "light"
     },
     "output_type": "display_data"
    }
   ],
   "source": [
    "#Por último, analisando a porcentagem de estagiarios em cada ano\n",
    "porcentagem = np.divide(estagiarios,num_aluno)\n",
    "ax2 = sns.barplot(ano,porcentagem,palette = \"mako\")\n",
    "plt.title('Porcentagem (%) de estagiários da EEL 2016-2022')\n",
    "plt.ylabel('(%)');"
   ]
  },
  {
   "cell_type": "code",
   "execution_count": 41,
   "id": "7b789e5d",
   "metadata": {},
   "outputs": [
    {
     "name": "stderr",
     "output_type": "stream",
     "text": [
      "C:\\Users\\55129\\anaconda3\\lib\\site-packages\\seaborn\\_decorators.py:36: FutureWarning: Pass the following variables as keyword args: x, y. From version 0.12, the only valid positional argument will be `data`, and passing other arguments without an explicit keyword will result in an error or misinterpretation.\n",
      "  warnings.warn(\n",
      "C:\\Users\\55129\\anaconda3\\lib\\site-packages\\seaborn\\_decorators.py:36: FutureWarning: Pass the following variables as keyword args: x, y. From version 0.12, the only valid positional argument will be `data`, and passing other arguments without an explicit keyword will result in an error or misinterpretation.\n",
      "  warnings.warn(\n",
      "C:\\Users\\55129\\anaconda3\\lib\\site-packages\\seaborn\\_decorators.py:36: FutureWarning: Pass the following variables as keyword args: x, y. From version 0.12, the only valid positional argument will be `data`, and passing other arguments without an explicit keyword will result in an error or misinterpretation.\n",
      "  warnings.warn(\n"
     ]
    },
    {
     "data": {
      "text/plain": [
       "Text(0.5, 1.0, 'Porcentagem (%) de estagiários da EEL 2016-2022')"
      ]
     },
     "execution_count": 41,
     "metadata": {},
     "output_type": "execute_result"
    },
    {
     "data": {
      "image/png": "[encoded data removed]",
      "text/plain": [
       "<Figure size 1080x288 with 3 Axes>"
      ]
     },
     "metadata": {
      "needs_background": "light"
     },
     "output_type": "display_data"
    }
   ],
   "source": [
    "fig = plt.figure(figsize=(15,4))\n",
    "ax = fig.add_subplot()\n",
    "plt.subplot(1,3,1)\n",
    "ax = sns.barplot(ano,num_aluno,palette = \"mako\");\n",
    "#ax.set_axis_off()\n",
    "plt.title('Nº de alunos da EEL 2016-2022',fontweight='bold')#,color='white')\n",
    "#ax.tick_params(colors='white')\n",
    "\n",
    "\n",
    "plt.subplot(1,3,2)\n",
    "ax1 = sns.barplot(ano,estagiarios,palette = \"mako\");\n",
    "plt.title('Nº de estagiários na EEL 2016-2022',fontweight='bold')#,color='white');\n",
    "#ax1.tick_params(colors='white')\n",
    "\n",
    "\n",
    "\n",
    "plt.subplot(1,3,3)\n",
    "ax2 = sns.barplot(ano,porcentagem,palette = \"mako\");\n",
    "plt.title('Porcentagem (%) de estagiários da EEL 2016-2022',fontweight='bold')#,color='white');\n",
    "#ax2.tick_params(colors='white')"
   ]
  },
  {
   "cell_type": "markdown",
   "id": "15efcec7",
   "metadata": {},
   "source": [
    "Analisando agora os principais períodos de recrutamento das empresas que possuem estagiários "
   ]
  },
  {
   "cell_type": "code",
   "execution_count": null,
   "id": "92c22533",
   "metadata": {},
   "outputs": [],
   "source": [
    "#Calculando a porcentagem de estagiarios em 2022\n",
    "#porcentagem estagiarios 2022 = numero de estagiarios/numero de alunos\n"
   ]
  }
 ],
 "metadata": {
  "kernelspec": {
   "display_name": "Python 3",
   "language": "python",
   "name": "python3"
  },
  "language_info": {
   "codemirror_mode": {
    "name": "ipython",
    "version": 3
   },
   "file_extension": ".py",
   "mimetype": "text/x-python",
   "name": "python",
   "nbconvert_exporter": "python",
   "pygments_lexer": "ipython3",
   "version": "3.8.8"
  }
 },
 "nbformat": 4,
 "nbformat_minor": 5
}
