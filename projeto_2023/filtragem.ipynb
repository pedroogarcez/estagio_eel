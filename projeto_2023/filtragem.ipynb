{
 "cells": [
  {
   "cell_type": "code",
   "execution_count": 144,
   "id": "699345b6",
   "metadata": {},
   "outputs": [],
   "source": [
    "import pandas as pd\n",
    "import numpy as np"
   ]
  },
  {
   "cell_type": "code",
   "execution_count": 145,
   "id": "7a431f3b",
   "metadata": {},
   "outputs": [],
   "source": [
    "df = pd.read_csv('estagio_compartilhado.csv')\n",
    "df.rename(columns={'Curso ': 'Curso'}, inplace = True)"
   ]
  },
  {
   "cell_type": "code",
   "execution_count": 146,
   "id": "02786621",
   "metadata": {},
   "outputs": [],
   "source": [
    "# -- Transformando as datas\n",
    "df['Data Início'] = pd.to_datetime(df['Data Início'])\n",
    "df['Data Término'] = pd.to_datetime(df['Data Término'])"
   ]
  },
  {
   "cell_type": "code",
   "execution_count": 147,
   "id": "a20b7868",
   "metadata": {},
   "outputs": [],
   "source": [
    "# -- Identificando os anos de início\n",
    "df['Ano Início'] = df['Data Início'].dt.year\n",
    "df['Ano Término'] = df['Data Término'].dt.year"
   ]
  },
  {
   "cell_type": "code",
   "execution_count": 154,
   "id": "4c81f431",
   "metadata": {},
   "outputs": [
    {
     "name": "stdout",
     "output_type": "stream",
     "text": [
      "7\n",
      "8\n"
     ]
    }
   ],
   "source": [
    "# -- Filtrando os dados de ano de início para o intervalo de 2016 a 2022\n",
    "df['Ano Início'].value_counts() # 24 anos cadastrados\n",
    "df = df.loc[(df['Ano Início'] > 2015) & (df['Ano Início'] < 2023) & (df['Ano Término'] > 2015) & \n",
    "           (df['Ano Término'] <= 2023)]\n",
    "print(len(df['Ano Início'].value_counts()))\n",
    "print(len(df['Ano Término'].value_counts()))"
   ]
  },
  {
   "cell_type": "code",
   "execution_count": 157,
   "id": "5bfd367e",
   "metadata": {},
   "outputs": [
    {
     "data": {
      "text/html": [
       "<div>\n",
       "<style scoped>\n",
       "    .dataframe tbody tr th:only-of-type {\n",
       "        vertical-align: middle;\n",
       "    }\n",
       "\n",
       "    .dataframe tbody tr th {\n",
       "        vertical-align: top;\n",
       "    }\n",
       "\n",
       "    .dataframe thead th {\n",
       "        text-align: right;\n",
       "    }\n",
       "</style>\n",
       "<table border=\"1\" class=\"dataframe\">\n",
       "  <thead>\n",
       "    <tr style=\"text-align: right;\">\n",
       "      <th></th>\n",
       "      <th>Curso</th>\n",
       "      <th>Empresa</th>\n",
       "      <th>Data Início</th>\n",
       "      <th>Data Término</th>\n",
       "      <th>Ano Início</th>\n",
       "      <th>Ano Término</th>\n",
       "      <th>Período</th>\n",
       "    </tr>\n",
       "  </thead>\n",
       "  <tbody>\n",
       "  </tbody>\n",
       "</table>\n",
       "</div>"
      ],
      "text/plain": [
       "Empty DataFrame\n",
       "Columns: [Curso, Empresa, Data Início, Data Término, Ano Início, Ano Término, Período]\n",
       "Index: []"
      ]
     },
     "execution_count": 157,
     "metadata": {},
     "output_type": "execute_result"
    }
   ],
   "source": [
    "# -- Filtrando o intervalo de estágio entre ano de início e ano de término\n",
    "#df['Período'] = df['Ano Término'] - df['Ano Início']\n",
    "#df = df.loc[(df['Período']>=0)]"
   ]
  },
  {
   "cell_type": "code",
   "execution_count": 150,
   "id": "2f966002",
   "metadata": {},
   "outputs": [
    {
     "data": {
      "text/plain": [
       "BASF S/A                                                  10.738061\n",
       "ESCOLA DE ENGENHARIA DE LORENA                             4.746744\n",
       "CONFAB INDUSTRIAL S/A                                      3.733719\n",
       "CRUZEIRO PAPEIS INDUSTRIAIS - CPI                          3.646889\n",
       "JOHNSON & JOHNSON INDUSTRIAL LTDA.                         3.589001\n",
       "ITAÚ UNIBANCO S/A                                          3.444284\n",
       "PROCTER & GAMBLE IND. E COM. LTDA                          2.518090\n",
       "AMSTED MAXION FUNDIÇÃO E EQUIPAMENTOS FERROVIÁRIOS S.A     2.170767\n",
       "A.C. NIELSEN DO BRASIL LTDA                                1.997106\n",
       "PLASTIC OMNIUM DO BRASIL LTDA                              1.881331\n",
       "SUZANO PAPEL E CELULOSE S/A                                1.736614\n",
       "EMBRAER S/A                                                1.562952\n",
       "GERDAU S/A                                                 1.562952\n",
       "INTERVET DO BRASIL VETERINÁRIA LTDA                        1.273517\n",
       "3M DO BRASIL LTDA                                          1.186686\n",
       "MONSANTO DO BRASIL LTDA                                    1.186686\n",
       "EATON LTDA                                                 1.186686\n",
       "BRASKEM S/A                                                1.157742\n",
       "AMBEV S.A.                                                 1.128799\n",
       "Name: Empresa, dtype: float64"
      ]
     },
     "execution_count": 150,
     "metadata": {},
     "output_type": "execute_result"
    }
   ],
   "source": [
    "total_empresas = len(df)\n",
    "df['Empresa'].value_counts().head(19)/total_empresas*100"
   ]
  },
  {
   "cell_type": "code",
   "execution_count": 151,
   "id": "e12ef911",
   "metadata": {
    "scrolled": true
   },
   "outputs": [
    {
     "name": "stdout",
     "output_type": "stream",
     "text": [
      "3455\n"
     ]
    },
    {
     "data": {
      "text/plain": [
       "587"
      ]
     },
     "execution_count": 151,
     "metadata": {},
     "output_type": "execute_result"
    }
   ],
   "source": [
    "len(df['Empresa'].value_counts().head(19))\n",
    "print(len(df))\n",
    "len(df['Empresa'].value_counts())"
   ]
  },
  {
   "cell_type": "code",
   "execution_count": 152,
   "id": "0be00c75",
   "metadata": {},
   "outputs": [
    {
     "data": {
      "text/plain": [
       "\"\\n#Exportando arquivo\\nnome_arquivo = 'estagio_princ_emp_filtrado.xlsx'\\ndf2.to_excel(nome_arquivo)\\nprint('DataFrame is written to Excel File successfully.')\\n\""
      ]
     },
     "execution_count": 152,
     "metadata": {},
     "output_type": "execute_result"
    }
   ],
   "source": [
    "# -- Localizando as 19 principais empresas\n",
    "df2 = df.loc[(df['Empresa'] == 'BASF S/A') | (df['Empresa'] == 'ESCOLA DE ENGENHARIA DE LORENA') |\n",
    "             (df['Empresa'] == 'CONFAB INDUSTRIAL S/A') | (df['Empresa'] == 'CRUZEIRO PAPEIS INDUSTRIAIS - CPI') |\n",
    "            (df['Empresa'] == 'JOHNSON & JOHNSON INDUSTRIAL LTDA.') | (df['Empresa'] == 'ITAÚ UNIBANCO S/A') | (df['Empresa'] == 'A.C. NIELSEN DO BRASIL LTDA') | \n",
    "            (df['Empresa'] == 'PROCTER & GAMBLE IND. E COM. LTDA') | (df['Empresa'] == 'AMSTED MAXION FUNDIÇÃO E EQUIPAMENTOS FERROVIÁRIOS S.A') |    \n",
    "            (df['Empresa'] == 'PLASTIC OMNIUM DO BRASIL LTDA') |  (df['Empresa'] == 'SUZANO PAPEL E CELULOSE S/A') | (df['Empresa'] == 'EMBRAER S/A') |  \n",
    "            (df['Empresa'] == 'GERDAU S/A') | (df['Empresa'] == 'INTERVET DO BRASIL VETERINÁRIA LTDA') | (df['Empresa'] == 'MONSANTO DO BRASIL LTDA') | (df['Empresa'] == 'BRASKEM S/A') | (df['Empresa'] == 'EATON LTDA') | \n",
    "            (df['Empresa'] == 'AMBEV S.A.') | (df['Empresa'] == 'OXITENO S.A INDÚSTRIA E COMÉRCIO')]\n",
    "'''\n",
    "#Exportando arquivo\n",
    "nome_arquivo = 'estagio_princ_emp_filtrado.xlsx'\n",
    "df2.to_excel(nome_arquivo)\n",
    "print('DataFrame is written to Excel File successfully.')\n",
    "'''"
   ]
  },
  {
   "cell_type": "code",
   "execution_count": null,
   "id": "d0cb6452",
   "metadata": {},
   "outputs": [],
   "source": []
  }
 ],
 "metadata": {
  "kernelspec": {
   "display_name": "Python 3 (ipykernel)",
   "language": "python",
   "name": "python3"
  },
  "language_info": {
   "codemirror_mode": {
    "name": "ipython",
    "version": 3
   },
   "file_extension": ".py",
   "mimetype": "text/x-python",
   "name": "python",
   "nbconvert_exporter": "python",
   "pygments_lexer": "ipython3",
   "version": "3.9.13"
  }
 },
 "nbformat": 4,
 "nbformat_minor": 5
}
