{
 "cells": [
  {
   "cell_type": "code",
   "execution_count": 255,
   "id": "a7ec9574",
   "metadata": {},
   "outputs": [],
   "source": [
    "import pandas as pd\n",
    "import numpy as np\n",
    "import matplotlib.pyplot as plt"
   ]
  },
  {
   "cell_type": "code",
   "execution_count": 256,
   "id": "66c3cbd3",
   "metadata": {},
   "outputs": [],
   "source": [
    "df = pd.read_csv('estagio_princ_emp_filtrado_lat_lon.csv')\n",
    "df.rename(columns={'Período': 'Período (ano)'}, inplace = True)\n",
    "df.drop('Unnamed: 0',inplace=True,axis=1)"
   ]
  },
  {
   "cell_type": "code",
   "execution_count": 257,
   "id": "bb9fb1f3",
   "metadata": {},
   "outputs": [],
   "source": [
    "df['Data Início'] = pd.to_datetime(df['Data Início'])\n",
    "df['Data Término'] = pd.to_datetime(df['Data Término'])\n",
    "df['Período (mês)'] = (((df['Data Término'] - df['Data Início']).dt.days)/31).astype(int)"
   ]
  },
  {
   "cell_type": "code",
   "execution_count": 258,
   "id": "9e5a9492",
   "metadata": {},
   "outputs": [
    {
     "data": {
      "text/plain": [
       "BASF S/A                                                  371\n",
       "ESCOLA DE ENGENHARIA DE LORENA                            164\n",
       "CONFAB INDUSTRIAL S/A                                     129\n",
       "CRUZEIRO PAPEIS INDUSTRIAIS - CPI                         126\n",
       "JOHNSON & JOHNSON INDUSTRIAL LTDA.                        124\n",
       "ITAÚ UNIBANCO S/A                                         119\n",
       "PROCTER & GAMBLE IND. E COM. LTDA                          87\n",
       "AMSTED MAXION FUNDIÇÃO E EQUIPAMENTOS FERROVIÁRIOS S.A     75\n",
       "PLASTIC OMNIUM DO BRASIL LTDA                              65\n",
       "SUZANO PAPEL E CELULOSE S/A                                60\n",
       "EMBRAER S/A                                                54\n",
       "GERDAU S/A                                                 53\n",
       "A.C. NIELSEN DO BRASIL LTDA                                48\n",
       "INTERVET DO BRASIL VETERINÁRIA LTDA                        44\n",
       "MONSANTO DO BRASIL LTDA                                    41\n",
       "EATON LTDA                                                 41\n",
       "BRASKEM S/A                                                40\n",
       "AMBEV S.A.                                                 39\n",
       "OXITENO S.A INDÚSTRIA E COMÉRCIO                           37\n",
       "Name: Empresa, dtype: int64"
      ]
     },
     "execution_count": 258,
     "metadata": {},
     "output_type": "execute_result"
    }
   ],
   "source": [
    "df['Empresa'].value_counts()"
   ]
  },
  {
   "cell_type": "markdown",
   "id": "1493b31d",
   "metadata": {},
   "source": [
    "Calculando a média de período de estágio para cada uma das principais empresas"
   ]
  },
  {
   "cell_type": "code",
   "execution_count": 259,
   "id": "254f7615",
   "metadata": {},
   "outputs": [
    {
     "name": "stdout",
     "output_type": "stream",
     "text": [
      "9.27027027027027\n",
      "[10, 10, 10, 3, 10, 8, 4, 11, 4, 0, 11, 11, 8, 11, 11, 21, 10, 1, 18, 22, 21, 5, 12, 3, 10, 11, 1, 18, 22, 6, 2, 3, 3, 11, 11, 5, 5]\n"
     ]
    }
   ],
   "source": [
    "# -- OXITENO\n",
    "df_oxiteno = df.loc[(df['Empresa'] == 'OXITENO S.A INDÚSTRIA E COMÉRCIO')]\n",
    "oxiteno = df_oxiteno['Período (mês)'].tolist()\n",
    "\n",
    "oxiteno_abs = []\n",
    "for i in oxiteno:\n",
    "    if i < 0:\n",
    "        pos = i*-1\n",
    "        oxiteno_abs.append(pos)\n",
    "    else:\n",
    "       oxiteno_abs.append(i)\n",
    "media_oxiteno = np.mean(oxiteno_abs)\n",
    "print(media_oxiteno)\n",
    "print(oxiteno_abs)"
   ]
  },
  {
   "cell_type": "code",
   "execution_count": 260,
   "id": "341cb5a6",
   "metadata": {},
   "outputs": [
    {
     "name": "stdout",
     "output_type": "stream",
     "text": [
      "9.11320754716981\n"
     ]
    }
   ],
   "source": [
    "# -- BASF\n",
    "df_basf = df.loc[(df['Empresa'] == 'BASF S/A')]\n",
    "basf = df_basf['Período (mês)'].tolist()\n",
    "\n",
    "basf_abs = []\n",
    "for i in basf:\n",
    "    if i < 0:\n",
    "        pos = i*-1\n",
    "        basf_abs.append(pos)\n",
    "    else:\n",
    "       basf_abs.append(i)\n",
    "media_basf = np.mean(basf_abs)\n",
    "print(media_basf)\n",
    "#print(basf_abs)"
   ]
  },
  {
   "cell_type": "code",
   "execution_count": 261,
   "id": "26f44b53",
   "metadata": {},
   "outputs": [
    {
     "name": "stdout",
     "output_type": "stream",
     "text": [
      "8.896341463414634\n",
      "164\n"
     ]
    },
    {
     "data": {
      "text/plain": [
       "164"
      ]
     },
     "execution_count": 261,
     "metadata": {},
     "output_type": "execute_result"
    }
   ],
   "source": [
    "# -- EEL\n",
    "df_eel = df.loc[(df['Empresa'] == 'ESCOLA DE ENGENHARIA DE LORENA')]\n",
    "eel = df_eel['Período (mês)'].tolist()\n",
    "\n",
    "eel_abs = []\n",
    "for i in eel:\n",
    "    if i < 0:\n",
    "        pos = i*-1\n",
    "        eel_abs.append(pos)\n",
    "    else:\n",
    "       eel_abs.append(i)\n",
    "media_eel = np.mean(eel_abs)\n",
    "print(media_eel)\n",
    "print(len(eel_abs))\n",
    "len(df.loc[(df['Empresa'] == 'ESCOLA DE ENGENHARIA DE LORENA')])"
   ]
  },
  {
   "cell_type": "code",
   "execution_count": 262,
   "id": "e43a2320",
   "metadata": {},
   "outputs": [
    {
     "name": "stdout",
     "output_type": "stream",
     "text": [
      "8.945736434108527\n"
     ]
    }
   ],
   "source": [
    "# -- CONFAB INDUSTRIAL S/A\n",
    "\n",
    "df_confab = df.loc[(df['Empresa'] == 'CONFAB INDUSTRIAL S/A')]\n",
    "confab = df_confab['Período (mês)'].tolist()\n",
    "\n",
    "confab_abs = []\n",
    "for i in confab:\n",
    "    if i < 0:\n",
    "        pos = i*-1\n",
    "        confab_abs.append(pos)\n",
    "    else:\n",
    "       confab_abs.append(i)\n",
    "media_confab = np.mean(confab_abs)\n",
    "print(media_confab)"
   ]
  },
  {
   "cell_type": "code",
   "execution_count": 263,
   "id": "2e1f02f3",
   "metadata": {},
   "outputs": [
    {
     "name": "stdout",
     "output_type": "stream",
     "text": [
      "6.888888888888889\n"
     ]
    }
   ],
   "source": [
    "# -- CRUZEIRO PAPEIS INDUSTRIAIS - CPI\n",
    "\n",
    "df_cpi = df.loc[(df['Empresa'] == 'CRUZEIRO PAPEIS INDUSTRIAIS - CPI')]\n",
    "cpi = df_cpi['Período (mês)'].tolist()\n",
    "\n",
    "cpi_abs = []\n",
    "for i in cpi:\n",
    "    if i < 0:\n",
    "        pos = i*-1\n",
    "        cpi_abs.append(pos)\n",
    "    else:\n",
    "       cpi_abs.append(i)\n",
    "media_cpi = np.mean(cpi_abs)\n",
    "print(media_cpi)"
   ]
  },
  {
   "cell_type": "code",
   "execution_count": 264,
   "id": "e7401247",
   "metadata": {},
   "outputs": [
    {
     "name": "stdout",
     "output_type": "stream",
     "text": [
      "9.57258064516129\n"
     ]
    }
   ],
   "source": [
    "# -- JOHNSON & JOHNSON INDUSTRIAL LTDA.\n",
    "\n",
    "\n",
    "df_jj = df.loc[(df['Empresa'] == 'JOHNSON & JOHNSON INDUSTRIAL LTDA.')]\n",
    "jj = df_jj['Período (mês)'].tolist()\n",
    "\n",
    "jj_abs = []\n",
    "for i in jj:\n",
    "    if i < 0:\n",
    "        pos = i*-1\n",
    "        jj_abs.append(pos)\n",
    "    else:\n",
    "       jj_abs.append(i)\n",
    "media_jj = np.mean(jj_abs)\n",
    "print(media_jj)"
   ]
  },
  {
   "cell_type": "code",
   "execution_count": 265,
   "id": "3d92818e",
   "metadata": {},
   "outputs": [
    {
     "name": "stdout",
     "output_type": "stream",
     "text": [
      "7.369747899159663\n"
     ]
    }
   ],
   "source": [
    "# -- ITAÚ UNIBANCO S/A\n",
    "\n",
    "df_itau = df.loc[(df['Empresa'] == 'ITAÚ UNIBANCO S/A')]\n",
    "itau = df_itau['Período (mês)'].tolist()\n",
    "\n",
    "itau_abs = []\n",
    "for i in itau:\n",
    "    if i < 0:\n",
    "        pos = i*-1\n",
    "        itau_abs.append(pos)\n",
    "    else:\n",
    "       itau_abs.append(i)\n",
    "media_itau = np.mean(itau_abs)\n",
    "print(media_itau)"
   ]
  },
  {
   "cell_type": "code",
   "execution_count": 266,
   "id": "950f6dfb",
   "metadata": {},
   "outputs": [
    {
     "name": "stdout",
     "output_type": "stream",
     "text": [
      "10.206896551724139\n"
     ]
    }
   ],
   "source": [
    "# -- PROCTER & GAMBLE IND. E COM. LTDA\n",
    "\n",
    "df_procter = df.loc[(df['Empresa'] == 'PROCTER & GAMBLE IND. E COM. LTDA')]\n",
    "procter = df_procter['Período (mês)'].tolist()\n",
    "\n",
    "procter_abs = []\n",
    "for i in procter:\n",
    "    if i < 0:\n",
    "        pos = i*-1\n",
    "        procter_abs.append(pos)\n",
    "    else:\n",
    "       procter_abs.append(i)\n",
    "media_procter = np.mean(procter_abs)\n",
    "print(media_procter)"
   ]
  },
  {
   "cell_type": "code",
   "execution_count": 267,
   "id": "c3830473",
   "metadata": {},
   "outputs": [
    {
     "name": "stdout",
     "output_type": "stream",
     "text": [
      "9.56\n"
     ]
    }
   ],
   "source": [
    "# -- AMSTED MAXION FUNDIÇÃO E EQUIPAMENTOS FERROVIÁRIOS S.A\n",
    "\n",
    "df_maxion = df.loc[(df['Empresa'] == 'AMSTED MAXION FUNDIÇÃO E EQUIPAMENTOS FERROVIÁRIOS S.A')]\n",
    "maxion = df_maxion['Período (mês)'].tolist()\n",
    "\n",
    "maxion_abs = []\n",
    "for i in maxion:\n",
    "    if i < 0:\n",
    "        pos = i*-1\n",
    "        maxion_abs.append(pos)\n",
    "    else:\n",
    "       maxion_abs.append(i)\n",
    "media_maxion = np.mean(maxion_abs)\n",
    "print(media_maxion)"
   ]
  },
  {
   "cell_type": "code",
   "execution_count": 268,
   "id": "cdda54ae",
   "metadata": {},
   "outputs": [
    {
     "name": "stdout",
     "output_type": "stream",
     "text": [
      "9.076923076923077\n"
     ]
    }
   ],
   "source": [
    "# -- PLASTIC OMNIUM DO BRASIL LTDA\n",
    "\n",
    "df_plastic = df.loc[(df['Empresa'] == 'PLASTIC OMNIUM DO BRASIL LTDA')]\n",
    "plastic = df_plastic['Período (mês)'].tolist()\n",
    "\n",
    "plastic_abs = []\n",
    "for i in plastic:\n",
    "    if i < 0:\n",
    "        pos = i*-1\n",
    "        plastic_abs.append(pos)\n",
    "    else:\n",
    "       plastic_abs.append(i)\n",
    "media_plastic = np.mean(plastic_abs)\n",
    "print(media_plastic)"
   ]
  },
  {
   "cell_type": "code",
   "execution_count": 269,
   "id": "51eaec5a",
   "metadata": {},
   "outputs": [
    {
     "name": "stdout",
     "output_type": "stream",
     "text": [
      "8.583333333333334\n"
     ]
    }
   ],
   "source": [
    "# -- SUZANO PAPEL E CELULOSE S/A\n",
    "\n",
    "df_suz = df.loc[(df['Empresa'] == 'SUZANO PAPEL E CELULOSE S/A')]\n",
    "suz = df_suz['Período (mês)'].tolist()\n",
    "\n",
    "suz_abs = []\n",
    "for i in suz:\n",
    "    if i < 0:\n",
    "        pos = i*-1\n",
    "        suz_abs.append(pos)\n",
    "    else:\n",
    "       suz_abs.append(i)\n",
    "media_suz = np.mean(suz_abs)\n",
    "print(media_suz)"
   ]
  },
  {
   "cell_type": "code",
   "execution_count": 270,
   "id": "ee3e37dd",
   "metadata": {},
   "outputs": [
    {
     "name": "stdout",
     "output_type": "stream",
     "text": [
      "8.583333333333334\n"
     ]
    }
   ],
   "source": [
    "# -- EMBRAER S/A\n",
    "\n",
    "df_embraer = df.loc[(df['Empresa'] == 'EMBRAER S/A')]\n",
    "embraer = df_embraer['Período (mês)'].tolist()\n",
    "\n",
    "embraer_abs = []\n",
    "for i in suz:\n",
    "    if i < 0:\n",
    "        pos = i*-1\n",
    "        embraer_abs.append(pos)\n",
    "    else:\n",
    "       embraer_abs.append(i)\n",
    "media_embraer = np.mean(embraer_abs)\n",
    "print(media_embraer)"
   ]
  },
  {
   "cell_type": "code",
   "execution_count": 271,
   "id": "c5da2d0c",
   "metadata": {},
   "outputs": [
    {
     "name": "stdout",
     "output_type": "stream",
     "text": [
      "8.566037735849056\n"
     ]
    }
   ],
   "source": [
    "# -- GERDAU S/A\n",
    "\n",
    "df_gerdau = df.loc[(df['Empresa'] == 'GERDAU S/A')]\n",
    "gerdau = df_gerdau['Período (mês)'].tolist()\n",
    "\n",
    "gerdau_abs = []\n",
    "for i in gerdau:\n",
    "    if i < 0:\n",
    "        pos = i*-1\n",
    "        gerdau_abs.append(pos)\n",
    "    else:\n",
    "       gerdau_abs.append(i)\n",
    "media_gerdau = np.mean(gerdau_abs)\n",
    "print(media_gerdau)"
   ]
  },
  {
   "cell_type": "code",
   "execution_count": 272,
   "id": "53cfed32",
   "metadata": {},
   "outputs": [
    {
     "name": "stdout",
     "output_type": "stream",
     "text": [
      "11.886363636363637\n"
     ]
    }
   ],
   "source": [
    "# -- INTERVET DO BRASIL VETERINÁRIA LTDA\n",
    "\n",
    "df_int = df.loc[(df['Empresa'] == 'INTERVET DO BRASIL VETERINÁRIA LTDA')]\n",
    "intervet = df_int['Período (mês)'].tolist()\n",
    "\n",
    "int_abs = []\n",
    "for i in intervet:\n",
    "    if i < 0:\n",
    "        pos = i*-1\n",
    "        int_abs.append(pos)\n",
    "    else:\n",
    "       int_abs.append(i)\n",
    "media_intervet = np.mean(int_abs)\n",
    "print(media_intervet)"
   ]
  },
  {
   "cell_type": "code",
   "execution_count": 273,
   "id": "917c2ad2",
   "metadata": {},
   "outputs": [
    {
     "name": "stdout",
     "output_type": "stream",
     "text": [
      "9.024390243902438\n"
     ]
    }
   ],
   "source": [
    "# -- MONSANTO DO BRASIL LTDA\n",
    "\n",
    "df_monsanto = df.loc[(df['Empresa'] == 'MONSANTO DO BRASIL LTDA')]\n",
    "monsanto = df_monsanto['Período (mês)'].tolist()\n",
    "\n",
    "mon_abs = []\n",
    "for i in monsanto:\n",
    "    if i < 0:\n",
    "        pos = i*-1\n",
    "        mon_abs.append(pos)\n",
    "    else:\n",
    "       mon_abs.append(i)\n",
    "media_mons = np.mean(mon_abs)\n",
    "print(media_mons)"
   ]
  },
  {
   "cell_type": "code",
   "execution_count": 274,
   "id": "c379be7c",
   "metadata": {},
   "outputs": [
    {
     "name": "stdout",
     "output_type": "stream",
     "text": [
      "9.439024390243903\n"
     ]
    }
   ],
   "source": [
    "# -- EATON LTDA\n",
    "\n",
    "df_eaton = df.loc[(df['Empresa'] == 'EATON LTDA')]\n",
    "eaton = df_eaton['Período (mês)'].tolist()\n",
    "\n",
    "eaton_abs = []\n",
    "for i in eaton:\n",
    "    if i < 0:\n",
    "        pos = i*-1\n",
    "        eaton_abs.append(pos)\n",
    "    else:\n",
    "       eaton_abs.append(i)\n",
    "media_eaton = np.mean(eaton_abs)\n",
    "print(media_eaton)"
   ]
  },
  {
   "cell_type": "code",
   "execution_count": 275,
   "id": "e96acd4d",
   "metadata": {},
   "outputs": [
    {
     "name": "stdout",
     "output_type": "stream",
     "text": [
      "9.45\n"
     ]
    }
   ],
   "source": [
    "# -- BRASKEM S/A\n",
    "\n",
    "df_bras = df.loc[(df['Empresa'] == 'BRASKEM S/A')]\n",
    "bras = df_bras['Período (mês)'].tolist()\n",
    "\n",
    "bras_abs = []\n",
    "for i in bras:\n",
    "    if i < 0:\n",
    "        pos = i*-1\n",
    "        bras_abs.append(pos)\n",
    "    else:\n",
    "       bras_abs.append(i)\n",
    "media_bras = np.mean(bras_abs)\n",
    "print(media_bras)"
   ]
  },
  {
   "cell_type": "code",
   "execution_count": 276,
   "id": "07c279d0",
   "metadata": {},
   "outputs": [
    {
     "name": "stdout",
     "output_type": "stream",
     "text": [
      "7.589743589743589\n"
     ]
    }
   ],
   "source": [
    "# -- AMBEV S.A.\n",
    "\n",
    "df_ambev = df.loc[(df['Empresa'] == 'AMBEV S.A.')]\n",
    "ambev = df_ambev['Período (mês)'].tolist()\n",
    "\n",
    "ambev_abs = []\n",
    "for i in ambev:\n",
    "    if i < 0:\n",
    "        pos = i*-1\n",
    "        ambev_abs.append(pos)\n",
    "    else:\n",
    "       ambev_abs.append(i)\n",
    "media_ambev = np.mean(ambev_abs)\n",
    "print(media_ambev)"
   ]
  },
  {
   "cell_type": "code",
   "execution_count": 277,
   "id": "c9418e71",
   "metadata": {},
   "outputs": [
    {
     "name": "stdout",
     "output_type": "stream",
     "text": [
      "16.395833333333332\n"
     ]
    }
   ],
   "source": [
    "# -- A.C. NIELSEN DO BRASIL LTDA\n",
    "\n",
    "\n",
    "df_nielsen = df.loc[(df['Empresa'] == 'A.C. NIELSEN DO BRASIL LTDA')]\n",
    "nielsen = df_nielsen['Período (mês)'].tolist()\n",
    "\n",
    "nielsen_abs = []\n",
    "for i in nielsen:\n",
    "    if i < 0:\n",
    "        pos = i*-1\n",
    "        nielsen_abs.append(pos)\n",
    "    else:\n",
    "       nielsen_abs.append(i)\n",
    "media_nielsen = np.mean(nielsen_abs)\n",
    "print(media_nielsen)"
   ]
  },
  {
   "cell_type": "code",
   "execution_count": 282,
   "id": "0bd7713b",
   "metadata": {},
   "outputs": [
    {
     "data": {
      "text/plain": [
       "[<matplotlib.lines.Line2D at 0x24981c413d0>]"
      ]
     },
     "execution_count": 282,
     "metadata": {},
     "output_type": "execute_result"
    },
    {
     "data": {
      "image/png": "[encoded data removed]",
      "text/plain": [
       "<Figure size 640x480 with 1 Axes>"
      ]
     },
     "metadata": {},
     "output_type": "display_data"
    }
   ],
   "source": [
    "media_periodo = (media_oxiteno+media_basf+media_eel+media_confab+media_cpi+media_jj+media_itau+media_procter+\n",
    "                     media_maxion+media_plastic+media_suz+media_embraer+media_gerdau+media_intervet+media_mons+\n",
    "                     media_eaton+media_bras+media_ambev+media_nielsen)/19\n",
    "\n",
    "lista = [media_oxiteno,media_basf,media_eel,media_confab,media_cpi,media_jj,media_itau,media_procter,media_maxion,\n",
    "         media_plastic,media_suz,media_embraer,media_gerdau,media_intervet,media_mons,media_eaton,media_bras,\n",
    "         media_ambev,media_nielsen]\n",
    "anomalia = lista-media_periodo\n",
    "\n",
    "plt.plot(['OXITENO','BASF','EEL','CONFAB','CPI','JJ','ITAU','PROCTER','MAXION','PLASTIC','SUZANO','EMBRAER','GERDAU',\n",
    "         'INTERVET','MONSANTO','EATON','BRASKEN','AMBEV','NIELSEN'],anomalia)\n",
    "plt.xticks(rotation=90)"
   ]
  },
  {
   "cell_type": "code",
   "execution_count": 238,
   "id": "d259ba16",
   "metadata": {},
   "outputs": [
    {
     "name": "stderr",
     "output_type": "stream",
     "text": [
      "IOPub data rate exceeded.\n",
      "The notebook server will temporarily stop sending output\n",
      "to the client in order to avoid crashing it.\n",
      "To change this limit, set the config variable\n",
      "`--NotebookApp.iopub_data_rate_limit`.\n",
      "\n",
      "Current values:\n",
      "NotebookApp.iopub_data_rate_limit=1000000.0 (bytes/sec)\n",
      "NotebookApp.rate_limit_window=3.0 (secs)\n",
      "\n"
     ]
    }
   ],
   "source": [
    "'''\n",
    "\n",
    "lista_com_nome_empresas = df['Empresa'].value_counts().index.tolist()\n",
    "#print(lista_com_nome_empresas[0])\n",
    "lista_media = []\n",
    "\n",
    "def calcula_media(lista_com_nome_empresas):\n",
    "    global lista_media\n",
    "    index = 0\n",
    "    for i in range(len(lista_com_nome_empresas)):\n",
    "        df_emp = df.loc[(df['Empresa'] == lista_com_nome_empresas[index])]\n",
    "        freq_estagio = df_emp['Período (mês)'].tolist()\n",
    "        for w in freq_estagio:\n",
    "            lista_media.append(np.mean(w))\n",
    "            print(lista_media)\n",
    "        index += 1\n",
    "'''\n",
    "\n"
   ]
  },
  {
   "cell_type": "code",
   "execution_count": 192,
   "id": "c7b87078",
   "metadata": {},
   "outputs": [
    {
     "data": {
      "text/html": [
       "<div>\n",
       "<style scoped>\n",
       "    .dataframe tbody tr th:only-of-type {\n",
       "        vertical-align: middle;\n",
       "    }\n",
       "\n",
       "    .dataframe tbody tr th {\n",
       "        vertical-align: top;\n",
       "    }\n",
       "\n",
       "    .dataframe thead th {\n",
       "        text-align: right;\n",
       "    }\n",
       "</style>\n",
       "<table border=\"1\" class=\"dataframe\">\n",
       "  <thead>\n",
       "    <tr style=\"text-align: right;\">\n",
       "      <th></th>\n",
       "      <th>Curso</th>\n",
       "      <th>Empresa</th>\n",
       "      <th>Data Início</th>\n",
       "      <th>Data Término</th>\n",
       "      <th>Ano Início</th>\n",
       "      <th>Ano Término</th>\n",
       "      <th>Período (ano)</th>\n",
       "      <th>Latitude</th>\n",
       "      <th>Longitude</th>\n",
       "      <th>Cidade</th>\n",
       "      <th>Localização</th>\n",
       "      <th>Período (mês)</th>\n",
       "    </tr>\n",
       "  </thead>\n",
       "  <tbody>\n",
       "    <tr>\n",
       "      <th>0</th>\n",
       "      <td>Engenharia Química</td>\n",
       "      <td>A.C. NIELSEN DO BRASIL LTDA</td>\n",
       "      <td>2017-11-09</td>\n",
       "      <td>2018-06-29</td>\n",
       "      <td>2017</td>\n",
       "      <td>2018</td>\n",
       "      <td>1</td>\n",
       "      <td>-23.643375</td>\n",
       "      <td>-46.826935</td>\n",
       "      <td>São Paulo</td>\n",
       "      <td>3</td>\n",
       "      <td>7</td>\n",
       "    </tr>\n",
       "    <tr>\n",
       "      <th>1</th>\n",
       "      <td>Engenharia Química</td>\n",
       "      <td>A.C. NIELSEN DO BRASIL LTDA</td>\n",
       "      <td>2021-04-10</td>\n",
       "      <td>2022-07-31</td>\n",
       "      <td>2021</td>\n",
       "      <td>2022</td>\n",
       "      <td>1</td>\n",
       "      <td>-23.643375</td>\n",
       "      <td>-46.826935</td>\n",
       "      <td>São Paulo</td>\n",
       "      <td>3</td>\n",
       "      <td>15</td>\n",
       "    </tr>\n",
       "    <tr>\n",
       "      <th>2</th>\n",
       "      <td>Engenharia Química</td>\n",
       "      <td>A.C. NIELSEN DO BRASIL LTDA</td>\n",
       "      <td>2022-01-08</td>\n",
       "      <td>2022-12-31</td>\n",
       "      <td>2022</td>\n",
       "      <td>2022</td>\n",
       "      <td>0</td>\n",
       "      <td>-23.643375</td>\n",
       "      <td>-46.826935</td>\n",
       "      <td>São Paulo</td>\n",
       "      <td>3</td>\n",
       "      <td>11</td>\n",
       "    </tr>\n",
       "    <tr>\n",
       "      <th>3</th>\n",
       "      <td>Engenharia Química</td>\n",
       "      <td>A.C. NIELSEN DO BRASIL LTDA</td>\n",
       "      <td>2018-08-13</td>\n",
       "      <td>2019-07-08</td>\n",
       "      <td>2018</td>\n",
       "      <td>2019</td>\n",
       "      <td>1</td>\n",
       "      <td>-23.643375</td>\n",
       "      <td>-46.826935</td>\n",
       "      <td>São Paulo</td>\n",
       "      <td>3</td>\n",
       "      <td>10</td>\n",
       "    </tr>\n",
       "    <tr>\n",
       "      <th>4</th>\n",
       "      <td>Engenharia Química</td>\n",
       "      <td>A.C. NIELSEN DO BRASIL LTDA</td>\n",
       "      <td>2018-03-09</td>\n",
       "      <td>2019-01-07</td>\n",
       "      <td>2018</td>\n",
       "      <td>2019</td>\n",
       "      <td>1</td>\n",
       "      <td>-23.643375</td>\n",
       "      <td>-46.826935</td>\n",
       "      <td>São Paulo</td>\n",
       "      <td>3</td>\n",
       "      <td>9</td>\n",
       "    </tr>\n",
       "  </tbody>\n",
       "</table>\n",
       "</div>"
      ],
      "text/plain": [
       "                Curso                      Empresa Data Início Data Término  \\\n",
       "0  Engenharia Química  A.C. NIELSEN DO BRASIL LTDA  2017-11-09   2018-06-29   \n",
       "1  Engenharia Química  A.C. NIELSEN DO BRASIL LTDA  2021-04-10   2022-07-31   \n",
       "2  Engenharia Química  A.C. NIELSEN DO BRASIL LTDA  2022-01-08   2022-12-31   \n",
       "3  Engenharia Química  A.C. NIELSEN DO BRASIL LTDA  2018-08-13   2019-07-08   \n",
       "4  Engenharia Química  A.C. NIELSEN DO BRASIL LTDA  2018-03-09   2019-01-07   \n",
       "\n",
       "   Ano Início  Ano Término  Período (ano)   Latitude  Longitude     Cidade  \\\n",
       "0        2017         2018              1 -23.643375 -46.826935  São Paulo   \n",
       "1        2021         2022              1 -23.643375 -46.826935  São Paulo   \n",
       "2        2022         2022              0 -23.643375 -46.826935  São Paulo   \n",
       "3        2018         2019              1 -23.643375 -46.826935  São Paulo   \n",
       "4        2018         2019              1 -23.643375 -46.826935  São Paulo   \n",
       "\n",
       "   Localização  Período (mês)  \n",
       "0            3              7  \n",
       "1            3             15  \n",
       "2            3             11  \n",
       "3            3             10  \n",
       "4            3              9  "
      ]
     },
     "execution_count": 192,
     "metadata": {},
     "output_type": "execute_result"
    }
   ],
   "source": [
    "df.head()"
   ]
  }
 ],
 "metadata": {
  "kernelspec": {
   "display_name": "Python 3 (ipykernel)",
   "language": "python",
   "name": "python3"
  },
  "language_info": {
   "codemirror_mode": {
    "name": "ipython",
    "version": 3
   },
   "file_extension": ".py",
   "mimetype": "text/x-python",
   "name": "python",
   "nbconvert_exporter": "python",
   "pygments_lexer": "ipython3",
   "version": "3.9.13"
  }
 },
 "nbformat": 4,
 "nbformat_minor": 5
}
